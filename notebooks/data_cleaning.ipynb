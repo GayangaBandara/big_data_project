{
 "cells": [
  {
   "cell_type": "code",
   "execution_count": null,
   "metadata": {},
   "outputs": [],
   "source": [
    "import pandas as pd\n",
    "\n",
    "# Load dataset\n",
    "df = pd.read_csv(\"../data/raw/products.csv\")\n",
    "\n",
    "# Check missing values\n",
    "print(\"Missing Values:\\n\", df.isnull().sum())\n",
    "\n",
    "# Fill missing values with mean\n",
    "df.fillna(df.mean(), inplace=True)\n",
    "\n",
    "# Remove duplicates\n",
    "df.drop_duplicates(inplace=True)\n",
    "\n",
    "# Save cleaned data\n",
<<<<<<< HEAD
    "df.to_csv(\"../data/processed/cleaned_data.csv\", index=False)\n",
=======
    "df.to_csv(\"../data/processed/part-00000-55078bd3-eca0-4078-8064-721c27ee24fc-c000.csv\", index=False)\n",
>>>>>>> 796738e (Dashbord Update)
    "print(\"✅ Data Cleaning Completed!\")"
   ]
  }
 ],
 "metadata": {
  "kernelspec": {
   "display_name": ".venv",
   "language": "python",
   "name": "python3"
  },
  "language_info": {
   "name": "python",
   "version": "3.13.1"
  }
 },
 "nbformat": 4,
 "nbformat_minor": 2
}
