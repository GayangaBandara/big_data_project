{
 "cells": [
  {
   "cell_type": "code",
   "execution_count": null,
   "metadata": {},
   "outputs": [],
   "source": [
    "import pandas as pd\n",
    "from sklearn.model_selection import train_test_split\n",
    "from sklearn.ensemble import RandomForestRegressor\n",
    "import pickle\n",
    "\n",
    "# Load dataset\n",
<<<<<<< HEAD
    "df = pd.read_csv(\"../data/processed/cleaned_data.csv\")\n",
=======
    "df = pd.read_csv(\"../data/processed/part-00000-55078bd3-eca0-4078-8064-721c27ee24fc-c000.csv\")\n",
>>>>>>> 796738e (Dashbord Update)
    "\n",
    "# Select features & target\n",
    "X = df[['Feature1', 'Feature2']]\n",
    "y = df['Price']\n",
    "\n",
    "# Split dataset\n",
    "X_train, X_test, y_train, y_test = train_test_split(X, y, test_size=0.2)\n",
    "\n",
    "# Train model\n",
    "model = RandomForestRegressor(n_estimators=100)\n",
    "model.fit(X_train, y_train)\n",
    "\n",
    "# Save trained model\n",
    "with open(\"../app/model.pkl\", \"wb\") as f:\n",
    "    pickle.dump(model, f)\n",
    "\n",
    "print(\"✅ ML Model Training Completed and Saved!\")"
   ]
  }
 ],
 "metadata": {
  "kernelspec": {
   "display_name": ".venv",
   "language": "python",
   "name": "python3"
  },
  "language_info": {
   "name": "python",
   "version": "3.13.1"
  }
 },
 "nbformat": 4,
 "nbformat_minor": 2
}
