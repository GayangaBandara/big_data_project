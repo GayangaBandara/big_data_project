{
 "cells": [
  {
   "cell_type": "code",
   "execution_count": null,
   "metadata": {},
   "outputs": [],
   "source": [
    "import pandas as pd\n",
    "import matplotlib.pyplot as plt\n",
    "import seaborn as sns"
   ]
  },
  {
   "cell_type": "code",
   "execution_count": null,
   "metadata": {},
   "outputs": [],
   "source": [
    "# Load the processed CSV file\n",
    "df = pd.read_csv(\"../big data project/data/processed/part-00000-55078bd3-eca0-4078-8064-721c27ee24fc-c000.csv\")"
   ]
  },
  {
   "cell_type": "code",
   "execution_count": null,
   "metadata": {},
   "outputs": [],
   "source": [
    "# Display basic info\n",
    "print(\"Basic Information:\")\n",
    "print(df.info())\n",
    "print(\"\\nFirst 5 rows:\")\n",
    "print(df.head())"
   ]
  },
  {
   "cell_type": "code",
   "execution_count": null,
   "metadata": {},
   "outputs": [],
   "source": [
    "# Check for missing values\n",
    "print(\"\\nMissing Values:\")\n",
    "print(df.isnull().sum())"
   ]
  },
  {
   "cell_type": "code",
   "execution_count": null,
   "metadata": {},
   "outputs": [],
   "source": [
    "# Convert 'published_at' to datetime\n",
    "df['published_at'] = pd.to_datetime(df['published_at'], errors='coerce')\n"
   ]
  },
  {
   "cell_type": "code",
   "execution_count": null,
   "metadata": {},
   "outputs": [],
   "source": [
    "# Top 10 most liked comments\n",
    "most_liked = df.sort_values(by='likes', ascending=False).head(10)\n",
    "print(\"\\nTop 10 Most Liked Comments:\")\n",
    "print(most_liked[['author', 'comment', 'likes']])\n"
   ]
  },
  {
   "cell_type": "code",
   "execution_count": null,
   "metadata": {},
   "outputs": [],
   "source": [
    "# Comments distribution by likes\n",
    "plt.figure(figsize=(10, 5))\n",
    "sns.histplot(df['likes'], bins=50, kde=True)\n",
    "plt.title(\"Distribution of Likes on Comments\")\n",
    "plt.xlabel(\"Number of Likes\")\n",
    "plt.ylabel(\"Frequency\")\n",
    "plt.xlim(0, df['likes'].quantile(0.99))  # Limit outliers\n",
    "plt.show()"
   ]
  },
  {
   "cell_type": "code",
   "execution_count": null,
   "metadata": {},
   "outputs": [],
   "source": [
    "# Comments over time\n",
    "plt.figure(figsize=(12, 5))\n",
    "df['published_at'].dt.date.value_counts().sort_index().plot(kind='line')\n",
    "plt.title(\"Number of Comments Over Time\")\n",
    "plt.xlabel(\"Date\")\n",
    "plt.ylabel(\"Number of Comments\")\n",
    "plt.xticks(rotation=45)\n",
    "plt.show()"
   ]
  },
  {
   "cell_type": "code",
   "execution_count": null,
   "metadata": {},
   "outputs": [],
   "source": [
    "# Word count distribution\n",
    "df['word_count'] = df['comment'].astype(str).apply(lambda x: len(x.split()))\n",
    "plt.figure(figsize=(10, 5))\n",
    "sns.histplot(df['word_count'], bins=30, kde=True)\n",
    "plt.title(\"Word Count Distribution in Comments\")\n",
    "plt.xlabel(\"Number of Words\")\n",
    "plt.ylabel(\"Frequency\")\n",
    "plt.show()"
   ]
  },
  {
   "cell_type": "code",
   "execution_count": null,
   "metadata": {},
   "outputs": [],
   "source": [
    "print(\"✅ EDA completed! Insights generated.\")"
   ]
  }
 ],
 "metadata": {
  "kernelspec": {
   "display_name": ".venv",
   "language": "python",
   "name": "python3"
  },
  "language_info": {
   "name": "python",
   "version": "3.13.1"
  }
 },
 "nbformat": 4,
 "nbformat_minor": 2
}
