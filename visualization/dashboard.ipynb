{
 "cells": [
  {
   "cell_type": "code",
   "execution_count": null,
   "metadata": {
    "vscode": {
     "languageId": "plaintext"
    }
   },
   "outputs": [],
   "source": [
    "import pandas as pd\n",
    "import plotly.express as px\n",
    "\n",
    "# Load data\n",
    "df = pd.read_csv(\"../data/processed/cleaned_data.csv\")\n",
    "\n",
    "# Create a histogram for price distribution\n",
    "fig = px.histogram(df, x=\"Price\", title=\"Price Distribution\", nbins=30)\n",
    "fig.show()\n",
    "\n",
    "# Create a bar chart for category-wise sales\n",
    "fig = px.bar(df, x=\"Category\", y=\"Price\", title=\"Category-wise Pricing\")\n",
    "fig.show()\n",
    "\n",
    "# Create a scatter plot for ratings vs. price\n",
    "fig = px.scatter(df, x=\"Review_Rating\", y=\"Price\", title=\"Review Rating vs. Price\", color=\"Category\")\n",
    "fig.show()"
   ]
  }
 ],
 "metadata": {
  "language_info": {
   "name": "python"
  }
 },
 "nbformat": 4,
 "nbformat_minor": 2
}
