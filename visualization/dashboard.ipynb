{
 "cells": [
  {
   "cell_type": "code",
   "execution_count": null,
   "metadata": {},
   "outputs": [
    {
     "data": {
      "application/vnd.plotly.v1+json": {
       "config": {
        "plotlyServerURL": "https://plot.ly"
       },
       "data": [
        {
         "hovertemplate": "Author=%{x}<br>Likes=%{y}<br>comment=%{text}<extra></extra>",
         "legendgroup": "",
         "marker": {
          "color": "#636efa",
          "pattern": {
           "shape": ""
          }
         },
         "name": "",
         "orientation": "v",
         "showlegend": false,
         "text": [
          "1:38 little nobody clearly lost the mind 😂😂",
          " apparently.\"",
          "7:01 : 😵‍💫",
          "2:02 dom pulled 2005 nfs most wanted move and thought we wouldn’t notice",
          "4:30 guy in front of dom clearly don't know how it works.? Why is he Attracting the car in forward direction.",
          "You guys did the drift dirty on this one. I hope we can see some good drifting in one of the last two films.",
          "Unlimited horsepower means nothing compared to mass and friction.  This is the single dumbest moment of the franchise history.",
          "Only Dom can do this. Destroyed plenty of shops and street amenities and not even one scratch on the car and the paint shines like new :)",
          "He’s a talented racer, an expert mechanic, a spy, a brawler, a smooth talker, a martial artist with superhuman strength and stamina, a charismatic leader, has military firearms training, he’s able to predict exactly when people’s engine pistons are going to burn without even looking under the hood. But above all, he’s a family man.",
          "2:06 my man activated a Pursuit Breaker as if he was in Need for Speed: Most Wanted (2005)😂😂😂😂😂"
         ],
         "textposition": "auto",
         "type": "bar",
         "x": [
          "@muhammadghani241",
          "       -Dom",
          "@Grey-ri4ud",
          "@willbebexxsoon",
          "@beatking2728",
          "@Latexghost",
          "@Werdnasemajjamesandrew",
          "@AnkurJhavery",
          "@mindyourgamesyt",
          "@xxDROCK"
         ],
         "xaxis": "x",
         "y": [
          "99",
          "972",
          "9",
          "9",
          "9",
          "9",
          "88",
          "877",
          "8563",
          "83"
         ],
         "yaxis": "y"
        }
       ],
       "layout": {
        "barmode": "relative",
        "legend": {
         "tracegroupgap": 0
        },
        "template": {
         "data": {
          "bar": [
           {
            "error_x": {
             "color": "#2a3f5f"
            },
            "error_y": {
             "color": "#2a3f5f"
            },
            "marker": {
             "line": {
              "color": "#E5ECF6",
              "width": 0.5
             },
             "pattern": {
              "fillmode": "overlay",
              "size": 10,
              "solidity": 0.2
             }
            },
            "type": "bar"
           }
          ],
          "barpolar": [
           {
            "marker": {
             "line": {
              "color": "#E5ECF6",
              "width": 0.5
             },
             "pattern": {
              "fillmode": "overlay",
              "size": 10,
              "solidity": 0.2
             }
            },
            "type": "barpolar"
           }
          ],
          "carpet": [
           {
            "aaxis": {
             "endlinecolor": "#2a3f5f",
             "gridcolor": "white",
             "linecolor": "white",
             "minorgridcolor": "white",
             "startlinecolor": "#2a3f5f"
            },
            "baxis": {
             "endlinecolor": "#2a3f5f",
             "gridcolor": "white",
             "linecolor": "white",
             "minorgridcolor": "white",
             "startlinecolor": "#2a3f5f"
            },
            "type": "carpet"
           }
          ],
          "choropleth": [
           {
            "colorbar": {
             "outlinewidth": 0,
             "ticks": ""
            },
            "type": "choropleth"
           }
          ],
          "contour": [
           {
            "colorbar": {
             "outlinewidth": 0,
             "ticks": ""
            },
            "colorscale": [
             [
              0,
              "#0d0887"
             ],
             [
              0.1111111111111111,
              "#46039f"
             ],
             [
              0.2222222222222222,
              "#7201a8"
             ],
             [
              0.3333333333333333,
              "#9c179e"
             ],
             [
              0.4444444444444444,
              "#bd3786"
             ],
             [
              0.5555555555555556,
              "#d8576b"
             ],
             [
              0.6666666666666666,
              "#ed7953"
             ],
             [
              0.7777777777777778,
              "#fb9f3a"
             ],
             [
              0.8888888888888888,
              "#fdca26"
             ],
             [
              1,
              "#f0f921"
             ]
            ],
            "type": "contour"
           }
          ],
          "contourcarpet": [
           {
            "colorbar": {
             "outlinewidth": 0,
             "ticks": ""
            },
            "type": "contourcarpet"
           }
          ],
          "heatmap": [
           {
            "colorbar": {
             "outlinewidth": 0,
             "ticks": ""
            },
            "colorscale": [
             [
              0,
              "#0d0887"
             ],
             [
              0.1111111111111111,
              "#46039f"
             ],
             [
              0.2222222222222222,
              "#7201a8"
             ],
             [
              0.3333333333333333,
              "#9c179e"
             ],
             [
              0.4444444444444444,
              "#bd3786"
             ],
             [
              0.5555555555555556,
              "#d8576b"
             ],
             [
              0.6666666666666666,
              "#ed7953"
             ],
             [
              0.7777777777777778,
              "#fb9f3a"
             ],
             [
              0.8888888888888888,
              "#fdca26"
             ],
             [
              1,
              "#f0f921"
             ]
            ],
            "type": "heatmap"
           }
          ],
          "histogram": [
           {
            "marker": {
             "pattern": {
              "fillmode": "overlay",
              "size": 10,
              "solidity": 0.2
             }
            },
            "type": "histogram"
           }
          ],
          "histogram2d": [
           {
            "colorbar": {
             "outlinewidth": 0,
             "ticks": ""
            },
            "colorscale": [
             [
              0,
              "#0d0887"
             ],
             [
              0.1111111111111111,
              "#46039f"
             ],
             [
              0.2222222222222222,
              "#7201a8"
             ],
             [
              0.3333333333333333,
              "#9c179e"
             ],
             [
              0.4444444444444444,
              "#bd3786"
             ],
             [
              0.5555555555555556,
              "#d8576b"
             ],
             [
              0.6666666666666666,
              "#ed7953"
             ],
             [
              0.7777777777777778,
              "#fb9f3a"
             ],
             [
              0.8888888888888888,
              "#fdca26"
             ],
             [
              1,
              "#f0f921"
             ]
            ],
            "type": "histogram2d"
           }
          ],
          "histogram2dcontour": [
           {
            "colorbar": {
             "outlinewidth": 0,
             "ticks": ""
            },
            "colorscale": [
             [
              0,
              "#0d0887"
             ],
             [
              0.1111111111111111,
              "#46039f"
             ],
             [
              0.2222222222222222,
              "#7201a8"
             ],
             [
              0.3333333333333333,
              "#9c179e"
             ],
             [
              0.4444444444444444,
              "#bd3786"
             ],
             [
              0.5555555555555556,
              "#d8576b"
             ],
             [
              0.6666666666666666,
              "#ed7953"
             ],
             [
              0.7777777777777778,
              "#fb9f3a"
             ],
             [
              0.8888888888888888,
              "#fdca26"
             ],
             [
              1,
              "#f0f921"
             ]
            ],
            "type": "histogram2dcontour"
           }
          ],
          "mesh3d": [
           {
            "colorbar": {
             "outlinewidth": 0,
             "ticks": ""
            },
            "type": "mesh3d"
           }
          ],
          "parcoords": [
           {
            "line": {
             "colorbar": {
              "outlinewidth": 0,
              "ticks": ""
             }
            },
            "type": "parcoords"
           }
          ],
          "pie": [
           {
            "automargin": true,
            "type": "pie"
           }
          ],
          "scatter": [
           {
            "fillpattern": {
             "fillmode": "overlay",
             "size": 10,
             "solidity": 0.2
            },
            "type": "scatter"
           }
          ],
          "scatter3d": [
           {
            "line": {
             "colorbar": {
              "outlinewidth": 0,
              "ticks": ""
             }
            },
            "marker": {
             "colorbar": {
              "outlinewidth": 0,
              "ticks": ""
             }
            },
            "type": "scatter3d"
           }
          ],
          "scattercarpet": [
           {
            "marker": {
             "colorbar": {
              "outlinewidth": 0,
              "ticks": ""
             }
            },
            "type": "scattercarpet"
           }
          ],
          "scattergeo": [
           {
            "marker": {
             "colorbar": {
              "outlinewidth": 0,
              "ticks": ""
             }
            },
            "type": "scattergeo"
           }
          ],
          "scattergl": [
           {
            "marker": {
             "colorbar": {
              "outlinewidth": 0,
              "ticks": ""
             }
            },
            "type": "scattergl"
           }
          ],
          "scattermap": [
           {
            "marker": {
             "colorbar": {
              "outlinewidth": 0,
              "ticks": ""
             }
            },
            "type": "scattermap"
           }
          ],
          "scattermapbox": [
           {
            "marker": {
             "colorbar": {
              "outlinewidth": 0,
              "ticks": ""
             }
            },
            "type": "scattermapbox"
           }
          ],
          "scatterpolar": [
           {
            "marker": {
             "colorbar": {
              "outlinewidth": 0,
              "ticks": ""
             }
            },
            "type": "scatterpolar"
           }
          ],
          "scatterpolargl": [
           {
            "marker": {
             "colorbar": {
              "outlinewidth": 0,
              "ticks": ""
             }
            },
            "type": "scatterpolargl"
           }
          ],
          "scatterternary": [
           {
            "marker": {
             "colorbar": {
              "outlinewidth": 0,
              "ticks": ""
             }
            },
            "type": "scatterternary"
           }
          ],
          "surface": [
           {
            "colorbar": {
             "outlinewidth": 0,
             "ticks": ""
            },
            "colorscale": [
             [
              0,
              "#0d0887"
             ],
             [
              0.1111111111111111,
              "#46039f"
             ],
             [
              0.2222222222222222,
              "#7201a8"
             ],
             [
              0.3333333333333333,
              "#9c179e"
             ],
             [
              0.4444444444444444,
              "#bd3786"
             ],
             [
              0.5555555555555556,
              "#d8576b"
             ],
             [
              0.6666666666666666,
              "#ed7953"
             ],
             [
              0.7777777777777778,
              "#fb9f3a"
             ],
             [
              0.8888888888888888,
              "#fdca26"
             ],
             [
              1,
              "#f0f921"
             ]
            ],
            "type": "surface"
           }
          ],
          "table": [
           {
            "cells": {
             "fill": {
              "color": "#EBF0F8"
             },
             "line": {
              "color": "white"
             }
            },
            "header": {
             "fill": {
              "color": "#C8D4E3"
             },
             "line": {
              "color": "white"
             }
            },
            "type": "table"
           }
          ]
         },
         "layout": {
          "annotationdefaults": {
           "arrowcolor": "#2a3f5f",
           "arrowhead": 0,
           "arrowwidth": 1
          },
          "autotypenumbers": "strict",
          "coloraxis": {
           "colorbar": {
            "outlinewidth": 0,
            "ticks": ""
           }
          },
          "colorscale": {
           "diverging": [
            [
             0,
             "#8e0152"
            ],
            [
             0.1,
             "#c51b7d"
            ],
            [
             0.2,
             "#de77ae"
            ],
            [
             0.3,
             "#f1b6da"
            ],
            [
             0.4,
             "#fde0ef"
            ],
            [
             0.5,
             "#f7f7f7"
            ],
            [
             0.6,
             "#e6f5d0"
            ],
            [
             0.7,
             "#b8e186"
            ],
            [
             0.8,
             "#7fbc41"
            ],
            [
             0.9,
             "#4d9221"
            ],
            [
             1,
             "#276419"
            ]
           ],
           "sequential": [
            [
             0,
             "#0d0887"
            ],
            [
             0.1111111111111111,
             "#46039f"
            ],
            [
             0.2222222222222222,
             "#7201a8"
            ],
            [
             0.3333333333333333,
             "#9c179e"
            ],
            [
             0.4444444444444444,
             "#bd3786"
            ],
            [
             0.5555555555555556,
             "#d8576b"
            ],
            [
             0.6666666666666666,
             "#ed7953"
            ],
            [
             0.7777777777777778,
             "#fb9f3a"
            ],
            [
             0.8888888888888888,
             "#fdca26"
            ],
            [
             1,
             "#f0f921"
            ]
           ],
           "sequentialminus": [
            [
             0,
             "#0d0887"
            ],
            [
             0.1111111111111111,
             "#46039f"
            ],
            [
             0.2222222222222222,
             "#7201a8"
            ],
            [
             0.3333333333333333,
             "#9c179e"
            ],
            [
             0.4444444444444444,
             "#bd3786"
            ],
            [
             0.5555555555555556,
             "#d8576b"
            ],
            [
             0.6666666666666666,
             "#ed7953"
            ],
            [
             0.7777777777777778,
             "#fb9f3a"
            ],
            [
             0.8888888888888888,
             "#fdca26"
            ],
            [
             1,
             "#f0f921"
            ]
           ]
          },
          "colorway": [
           "#636efa",
           "#EF553B",
           "#00cc96",
           "#ab63fa",
           "#FFA15A",
           "#19d3f3",
           "#FF6692",
           "#B6E880",
           "#FF97FF",
           "#FECB52"
          ],
          "font": {
           "color": "#2a3f5f"
          },
          "geo": {
           "bgcolor": "white",
           "lakecolor": "white",
           "landcolor": "#E5ECF6",
           "showlakes": true,
           "showland": true,
           "subunitcolor": "white"
          },
          "hoverlabel": {
           "align": "left"
          },
          "hovermode": "closest",
          "mapbox": {
           "style": "light"
          },
          "paper_bgcolor": "white",
          "plot_bgcolor": "#E5ECF6",
          "polar": {
           "angularaxis": {
            "gridcolor": "white",
            "linecolor": "white",
            "ticks": ""
           },
           "bgcolor": "#E5ECF6",
           "radialaxis": {
            "gridcolor": "white",
            "linecolor": "white",
            "ticks": ""
           }
          },
          "scene": {
           "xaxis": {
            "backgroundcolor": "#E5ECF6",
            "gridcolor": "white",
            "gridwidth": 2,
            "linecolor": "white",
            "showbackground": true,
            "ticks": "",
            "zerolinecolor": "white"
           },
           "yaxis": {
            "backgroundcolor": "#E5ECF6",
            "gridcolor": "white",
            "gridwidth": 2,
            "linecolor": "white",
            "showbackground": true,
            "ticks": "",
            "zerolinecolor": "white"
           },
           "zaxis": {
            "backgroundcolor": "#E5ECF6",
            "gridcolor": "white",
            "gridwidth": 2,
            "linecolor": "white",
            "showbackground": true,
            "ticks": "",
            "zerolinecolor": "white"
           }
          },
          "shapedefaults": {
           "line": {
            "color": "#2a3f5f"
           }
          },
          "ternary": {
           "aaxis": {
            "gridcolor": "white",
            "linecolor": "white",
            "ticks": ""
           },
           "baxis": {
            "gridcolor": "white",
            "linecolor": "white",
            "ticks": ""
           },
           "bgcolor": "#E5ECF6",
           "caxis": {
            "gridcolor": "white",
            "linecolor": "white",
            "ticks": ""
           }
          },
          "title": {
           "x": 0.05
          },
          "xaxis": {
           "automargin": true,
           "gridcolor": "white",
           "linecolor": "white",
           "ticks": "",
           "title": {
            "standoff": 15
           },
           "zerolinecolor": "white",
           "zerolinewidth": 2
          },
          "yaxis": {
           "automargin": true,
           "gridcolor": "white",
           "linecolor": "white",
           "ticks": "",
           "title": {
            "standoff": 15
           },
           "zerolinecolor": "white",
           "zerolinewidth": 2
          }
         }
        },
        "title": {
         "text": "Top 10 Most Liked Comments"
        },
        "xaxis": {
         "anchor": "y",
         "domain": [
          0,
          1
         ],
         "title": {
          "text": "Author"
         }
        },
        "yaxis": {
         "anchor": "x",
         "domain": [
          0,
          1
         ],
         "title": {
          "text": "Likes"
         }
        }
       }
      }
     },
     "metadata": {},
     "output_type": "display_data"
    },
    {
     "data": {
      "application/vnd.plotly.v1+json": {
       "config": {
        "plotlyServerURL": "https://plot.ly"
       },
       "data": [
        {
         "bingroup": "x",
         "hovertemplate": "comment_length=%{x}<br>count=%{y}<extra></extra>",
         "legendgroup": "",
         "marker": {
          "color": "#636efa",
          "pattern": {
           "shape": ""
          }
         },
         "name": "",
         "nbinsx": 30,
         "orientation": "v",
         "showlegend": false,
         "type": "histogram",
         "x": {
          "bdata": "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",
          "dtype": "i2"
         },
         "xaxis": "x",
         "yaxis": "y"
        }
       ],
       "layout": {
        "barmode": "relative",
        "legend": {
         "tracegroupgap": 0
        },
        "template": {
         "data": {
          "bar": [
           {
            "error_x": {
             "color": "#2a3f5f"
            },
            "error_y": {
             "color": "#2a3f5f"
            },
            "marker": {
             "line": {
              "color": "#E5ECF6",
              "width": 0.5
             },
             "pattern": {
              "fillmode": "overlay",
              "size": 10,
              "solidity": 0.2
             }
            },
            "type": "bar"
           }
          ],
          "barpolar": [
           {
            "marker": {
             "line": {
              "color": "#E5ECF6",
              "width": 0.5
             },
             "pattern": {
              "fillmode": "overlay",
              "size": 10,
              "solidity": 0.2
             }
            },
            "type": "barpolar"
           }
          ],
          "carpet": [
           {
            "aaxis": {
             "endlinecolor": "#2a3f5f",
             "gridcolor": "white",
             "linecolor": "white",
             "minorgridcolor": "white",
             "startlinecolor": "#2a3f5f"
            },
            "baxis": {
             "endlinecolor": "#2a3f5f",
             "gridcolor": "white",
             "linecolor": "white",
             "minorgridcolor": "white",
             "startlinecolor": "#2a3f5f"
            },
            "type": "carpet"
           }
          ],
          "choropleth": [
           {
            "colorbar": {
             "outlinewidth": 0,
             "ticks": ""
            },
            "type": "choropleth"
           }
          ],
          "contour": [
           {
            "colorbar": {
             "outlinewidth": 0,
             "ticks": ""
            },
            "colorscale": [
             [
              0,
              "#0d0887"
             ],
             [
              0.1111111111111111,
              "#46039f"
             ],
             [
              0.2222222222222222,
              "#7201a8"
             ],
             [
              0.3333333333333333,
              "#9c179e"
             ],
             [
              0.4444444444444444,
              "#bd3786"
             ],
             [
              0.5555555555555556,
              "#d8576b"
             ],
             [
              0.6666666666666666,
              "#ed7953"
             ],
             [
              0.7777777777777778,
              "#fb9f3a"
             ],
             [
              0.8888888888888888,
              "#fdca26"
             ],
             [
              1,
              "#f0f921"
             ]
            ],
            "type": "contour"
           }
          ],
          "contourcarpet": [
           {
            "colorbar": {
             "outlinewidth": 0,
             "ticks": ""
            },
            "type": "contourcarpet"
           }
          ],
          "heatmap": [
           {
            "colorbar": {
             "outlinewidth": 0,
             "ticks": ""
            },
            "colorscale": [
             [
              0,
              "#0d0887"
             ],
             [
              0.1111111111111111,
              "#46039f"
             ],
             [
              0.2222222222222222,
              "#7201a8"
             ],
             [
              0.3333333333333333,
              "#9c179e"
             ],
             [
              0.4444444444444444,
              "#bd3786"
             ],
             [
              0.5555555555555556,
              "#d8576b"
             ],
             [
              0.6666666666666666,
              "#ed7953"
             ],
             [
              0.7777777777777778,
              "#fb9f3a"
             ],
             [
              0.8888888888888888,
              "#fdca26"
             ],
             [
              1,
              "#f0f921"
             ]
            ],
            "type": "heatmap"
           }
          ],
          "histogram": [
           {
            "marker": {
             "pattern": {
              "fillmode": "overlay",
              "size": 10,
              "solidity": 0.2
             }
            },
            "type": "histogram"
           }
          ],
          "histogram2d": [
           {
            "colorbar": {
             "outlinewidth": 0,
             "ticks": ""
            },
            "colorscale": [
             [
              0,
              "#0d0887"
             ],
             [
              0.1111111111111111,
              "#46039f"
             ],
             [
              0.2222222222222222,
              "#7201a8"
             ],
             [
              0.3333333333333333,
              "#9c179e"
             ],
             [
              0.4444444444444444,
              "#bd3786"
             ],
             [
              0.5555555555555556,
              "#d8576b"
             ],
             [
              0.6666666666666666,
              "#ed7953"
             ],
             [
              0.7777777777777778,
              "#fb9f3a"
             ],
             [
              0.8888888888888888,
              "#fdca26"
             ],
             [
              1,
              "#f0f921"
             ]
            ],
            "type": "histogram2d"
           }
          ],
          "histogram2dcontour": [
           {
            "colorbar": {
             "outlinewidth": 0,
             "ticks": ""
            },
            "colorscale": [
             [
              0,
              "#0d0887"
             ],
             [
              0.1111111111111111,
              "#46039f"
             ],
             [
              0.2222222222222222,
              "#7201a8"
             ],
             [
              0.3333333333333333,
              "#9c179e"
             ],
             [
              0.4444444444444444,
              "#bd3786"
             ],
             [
              0.5555555555555556,
              "#d8576b"
             ],
             [
              0.6666666666666666,
              "#ed7953"
             ],
             [
              0.7777777777777778,
              "#fb9f3a"
             ],
             [
              0.8888888888888888,
              "#fdca26"
             ],
             [
              1,
              "#f0f921"
             ]
            ],
            "type": "histogram2dcontour"
           }
          ],
          "mesh3d": [
           {
            "colorbar": {
             "outlinewidth": 0,
             "ticks": ""
            },
            "type": "mesh3d"
           }
          ],
          "parcoords": [
           {
            "line": {
             "colorbar": {
              "outlinewidth": 0,
              "ticks": ""
             }
            },
            "type": "parcoords"
           }
          ],
          "pie": [
           {
            "automargin": true,
            "type": "pie"
           }
          ],
          "scatter": [
           {
            "fillpattern": {
             "fillmode": "overlay",
             "size": 10,
             "solidity": 0.2
            },
            "type": "scatter"
           }
          ],
          "scatter3d": [
           {
            "line": {
             "colorbar": {
              "outlinewidth": 0,
              "ticks": ""
             }
            },
            "marker": {
             "colorbar": {
              "outlinewidth": 0,
              "ticks": ""
             }
            },
            "type": "scatter3d"
           }
          ],
          "scattercarpet": [
           {
            "marker": {
             "colorbar": {
              "outlinewidth": 0,
              "ticks": ""
             }
            },
            "type": "scattercarpet"
           }
          ],
          "scattergeo": [
           {
            "marker": {
             "colorbar": {
              "outlinewidth": 0,
              "ticks": ""
             }
            },
            "type": "scattergeo"
           }
          ],
          "scattergl": [
           {
            "marker": {
             "colorbar": {
              "outlinewidth": 0,
              "ticks": ""
             }
            },
            "type": "scattergl"
           }
          ],
          "scattermap": [
           {
            "marker": {
             "colorbar": {
              "outlinewidth": 0,
              "ticks": ""
             }
            },
            "type": "scattermap"
           }
          ],
          "scattermapbox": [
           {
            "marker": {
             "colorbar": {
              "outlinewidth": 0,
              "ticks": ""
             }
            },
            "type": "scattermapbox"
           }
          ],
          "scatterpolar": [
           {
            "marker": {
             "colorbar": {
              "outlinewidth": 0,
              "ticks": ""
             }
            },
            "type": "scatterpolar"
           }
          ],
          "scatterpolargl": [
           {
            "marker": {
             "colorbar": {
              "outlinewidth": 0,
              "ticks": ""
             }
            },
            "type": "scatterpolargl"
           }
          ],
          "scatterternary": [
           {
            "marker": {
             "colorbar": {
              "outlinewidth": 0,
              "ticks": ""
             }
            },
            "type": "scatterternary"
           }
          ],
          "surface": [
           {
            "colorbar": {
             "outlinewidth": 0,
             "ticks": ""
            },
            "colorscale": [
             [
              0,
              "#0d0887"
             ],
             [
              0.1111111111111111,
              "#46039f"
             ],
             [
              0.2222222222222222,
              "#7201a8"
             ],
             [
              0.3333333333333333,
              "#9c179e"
             ],
             [
              0.4444444444444444,
              "#bd3786"
             ],
             [
              0.5555555555555556,
              "#d8576b"
             ],
             [
              0.6666666666666666,
              "#ed7953"
             ],
             [
              0.7777777777777778,
              "#fb9f3a"
             ],
             [
              0.8888888888888888,
              "#fdca26"
             ],
             [
              1,
              "#f0f921"
             ]
            ],
            "type": "surface"
           }
          ],
          "table": [
           {
            "cells": {
             "fill": {
              "color": "#EBF0F8"
             },
             "line": {
              "color": "white"
             }
            },
            "header": {
             "fill": {
              "color": "#C8D4E3"
             },
             "line": {
              "color": "white"
             }
            },
            "type": "table"
           }
          ]
         },
         "layout": {
          "annotationdefaults": {
           "arrowcolor": "#2a3f5f",
           "arrowhead": 0,
           "arrowwidth": 1
          },
          "autotypenumbers": "strict",
          "coloraxis": {
           "colorbar": {
            "outlinewidth": 0,
            "ticks": ""
           }
          },
          "colorscale": {
           "diverging": [
            [
             0,
             "#8e0152"
            ],
            [
             0.1,
             "#c51b7d"
            ],
            [
             0.2,
             "#de77ae"
            ],
            [
             0.3,
             "#f1b6da"
            ],
            [
             0.4,
             "#fde0ef"
            ],
            [
             0.5,
             "#f7f7f7"
            ],
            [
             0.6,
             "#e6f5d0"
            ],
            [
             0.7,
             "#b8e186"
            ],
            [
             0.8,
             "#7fbc41"
            ],
            [
             0.9,
             "#4d9221"
            ],
            [
             1,
             "#276419"
            ]
           ],
           "sequential": [
            [
             0,
             "#0d0887"
            ],
            [
             0.1111111111111111,
             "#46039f"
            ],
            [
             0.2222222222222222,
             "#7201a8"
            ],
            [
             0.3333333333333333,
             "#9c179e"
            ],
            [
             0.4444444444444444,
             "#bd3786"
            ],
            [
             0.5555555555555556,
             "#d8576b"
            ],
            [
             0.6666666666666666,
             "#ed7953"
            ],
            [
             0.7777777777777778,
             "#fb9f3a"
            ],
            [
             0.8888888888888888,
             "#fdca26"
            ],
            [
             1,
             "#f0f921"
            ]
           ],
           "sequentialminus": [
            [
             0,
             "#0d0887"
            ],
            [
             0.1111111111111111,
             "#46039f"
            ],
            [
             0.2222222222222222,
             "#7201a8"
            ],
            [
             0.3333333333333333,
             "#9c179e"
            ],
            [
             0.4444444444444444,
             "#bd3786"
            ],
            [
             0.5555555555555556,
             "#d8576b"
            ],
            [
             0.6666666666666666,
             "#ed7953"
            ],
            [
             0.7777777777777778,
             "#fb9f3a"
            ],
            [
             0.8888888888888888,
             "#fdca26"
            ],
            [
             1,
             "#f0f921"
            ]
           ]
          },
          "colorway": [
           "#636efa",
           "#EF553B",
           "#00cc96",
           "#ab63fa",
           "#FFA15A",
           "#19d3f3",
           "#FF6692",
           "#B6E880",
           "#FF97FF",
           "#FECB52"
          ],
          "font": {
           "color": "#2a3f5f"
          },
          "geo": {
           "bgcolor": "white",
           "lakecolor": "white",
           "landcolor": "#E5ECF6",
           "showlakes": true,
           "showland": true,
           "subunitcolor": "white"
          },
          "hoverlabel": {
           "align": "left"
          },
          "hovermode": "closest",
          "mapbox": {
           "style": "light"
          },
          "paper_bgcolor": "white",
          "plot_bgcolor": "#E5ECF6",
          "polar": {
           "angularaxis": {
            "gridcolor": "white",
            "linecolor": "white",
            "ticks": ""
           },
           "bgcolor": "#E5ECF6",
           "radialaxis": {
            "gridcolor": "white",
            "linecolor": "white",
            "ticks": ""
           }
          },
          "scene": {
           "xaxis": {
            "backgroundcolor": "#E5ECF6",
            "gridcolor": "white",
            "gridwidth": 2,
            "linecolor": "white",
            "showbackground": true,
            "ticks": "",
            "zerolinecolor": "white"
           },
           "yaxis": {
            "backgroundcolor": "#E5ECF6",
            "gridcolor": "white",
            "gridwidth": 2,
            "linecolor": "white",
            "showbackground": true,
            "ticks": "",
            "zerolinecolor": "white"
           },
           "zaxis": {
            "backgroundcolor": "#E5ECF6",
            "gridcolor": "white",
            "gridwidth": 2,
            "linecolor": "white",
            "showbackground": true,
            "ticks": "",
            "zerolinecolor": "white"
           }
          },
          "shapedefaults": {
           "line": {
            "color": "#2a3f5f"
           }
          },
          "ternary": {
           "aaxis": {
            "gridcolor": "white",
            "linecolor": "white",
            "ticks": ""
           },
           "baxis": {
            "gridcolor": "white",
            "linecolor": "white",
            "ticks": ""
           },
           "bgcolor": "#E5ECF6",
           "caxis": {
            "gridcolor": "white",
            "linecolor": "white",
            "ticks": ""
           }
          },
          "title": {
           "x": 0.05
          },
          "xaxis": {
           "automargin": true,
           "gridcolor": "white",
           "linecolor": "white",
           "ticks": "",
           "title": {
            "standoff": 15
           },
           "zerolinecolor": "white",
           "zerolinewidth": 2
          },
          "yaxis": {
           "automargin": true,
           "gridcolor": "white",
           "linecolor": "white",
           "ticks": "",
           "title": {
            "standoff": 15
           },
           "zerolinecolor": "white",
           "zerolinewidth": 2
          }
         }
        },
        "title": {
         "text": "Comment Length Distribution"
        },
        "xaxis": {
         "anchor": "y",
         "domain": [
          0,
          1
         ],
         "title": {
          "text": "comment_length"
         }
        },
        "yaxis": {
         "anchor": "x",
         "domain": [
          0,
          1
         ],
         "title": {
          "text": "count"
         }
        }
       }
      }
     },
     "metadata": {},
     "output_type": "display_data"
    },
    {
     "data": {
      "application/vnd.plotly.v1+json": {
       "config": {
        "plotlyServerURL": "https://plot.ly"
       },
       "data": [
        {
         "hovertemplate": "Likes=%{y}<br>Comment Length=%{x}<extra></extra>",
         "legendgroup": "0",
         "marker": {
          "color": "#636efa",
          "symbol": "circle"
         },
         "mode": "markers",
         "name": "0",
         "showlegend": true,
         "type": "scattergl",
         "x": {
          "bdata": "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",
          "dtype": "i2"
         },
         "xaxis": "x",
         "y": [
          "0",
          "0",
          "0",
          "0",
          "0",
          "0",
          "0",
          "0",
          "0",
          "0",
          "0",
          "0",
          "0",
          "0",
          "0",
          "0",
          "0",
          "0",
          "0",
          "0",
          "0",
          "0",
          "0",
          "0",
          "0",
          "0",
          "0",
          "0",
          "0",
          "0",
          "0",
          "0",
          "0",
          "0",
          "0",
          "0",
          "0",
          "0",
          "0",
          "0",
          "0",
          "0",
          "0",
          "0",
          "0",
          "0",
          "0",
          "0",
          "0",
          "0",
          "0",
          "0",
          "0",
          "0",
          "0",
          "0",
          "0",
          "0",
          "0",
          "0",
          "0",
          "0",
          "0",
          "0",
          "0",
          "0",
          "0",
          "0",
          "0",
          "0",
          "0",
          "0",
          "0",
          "0",
          "0",
          "0",
          "0",
          "0",
          "0",
          "0",
          "0",
          "0",
          "0",
          "0",
          "0",
          "0",
          "0",
          "0",
          "0",
          "0",
          "0",
          "0",
          "0",
          "0",
          "0",
          "0",
          "0",
          "0",
          "0",
          "0",
          "0",
          "0",
          "0",
          "0",
          "0",
          "0",
          "0",
          "0",
          "0",
          "0",
          "0",
          "0",
          "0",
          "0",
          "0",
          "0",
          "0",
          "0",
          "0",
          "0",
          "0",
          "0",
          "0",
          "0",
          "0",
          "0",
          "0",
          "0",
          "0",
          "0",
          "0",
          "0",
          "0",
          "0",
          "0",
          "0",
          "0",
          "0",
          "0",
          "0",
          "0",
          "0",
          "0",
          "0",
          "0",
          "0",
          "0",
          "0",
          "0",
          "0",
          "0",
          "0",
          "0",
          "0",
          "0",
          "0",
          "0",
          "0",
          "0",
          "0",
          "0",
          "0",
          "0",
          "0",
          "0",
          "0",
          "0",
          "0",
          "0",
          "0",
          "0",
          "0",
          "0",
          "0",
          "0",
          "0",
          "0",
          "0",
          "0",
          "0",
          "0",
          "0",
          "0",
          "0",
          "0",
          "0",
          "0",
          "0",
          "0",
          "0",
          "0",
          "0",
          "0",
          "0",
          "0",
          "0",
          "0",
          "0",
          "0",
          "0",
          "0",
          "0",
          "0",
          "0",
          "0",
          "0",
          "0",
          "0",
          "0",
          "0",
          "0",
          "0",
          "0",
          "0",
          "0",
          "0",
          "0",
          "0",
          "0",
          "0",
          "0",
          "0",
          "0",
          "0",
          "0",
          "0",
          "0",
          "0",
          "0",
          "0",
          "0",
          "0",
          "0",
          "0",
          "0",
          "0",
          "0",
          "0",
          "0",
          "0",
          "0",
          "0",
          "0",
          "0",
          "0",
          "0",
          "0",
          "0",
          "0",
          "0",
          "0",
          "0",
          "0",
          "0",
          "0",
          "0",
          "0",
          "0",
          "0",
          "0",
          "0",
          "0",
          "0",
          "0",
          "0",
          "0",
          "0",
          "0",
          "0",
          "0",
          "0",
          "0",
          "0",
          "0",
          "0",
          "0",
          "0",
          "0",
          "0",
          "0",
          "0",
          "0",
          "0",
          "0",
          "0",
          "0",
          "0",
          "0",
          "0",
          "0",
          "0",
          "0",
          "0",
          "0",
          "0",
          "0",
          "0",
          "0",
          "0",
          "0",
          "0",
          "0",
          "0",
          "0",
          "0",
          "0",
          "0",
          "0",
          "0",
          "0",
          "0",
          "0",
          "0",
          "0",
          "0",
          "0",
          "0",
          "0",
          "0",
          "0",
          "0",
          "0",
          "0",
          "0",
          "0",
          "0",
          "0",
          "0",
          "0",
          "0",
          "0",
          "0",
          "0",
          "0",
          "0",
          "0",
          "0",
          "0",
          "0",
          "0",
          "0",
          "0",
          "0",
          "0",
          "0",
          "0",
          "0",
          "0",
          "0",
          "0",
          "0",
          "0",
          "0",
          "0",
          "0",
          "0",
          "0",
          "0",
          "0",
          "0",
          "0",
          "0",
          "0",
          "0",
          "0",
          "0",
          "0",
          "0",
          "0",
          "0",
          "0",
          "0",
          "0",
          "0",
          "0",
          "0",
          "0",
          "0",
          "0",
          "0",
          "0",
          "0",
          "0",
          "0",
          "0",
          "0",
          "0",
          "0",
          "0",
          "0",
          "0",
          "0",
          "0",
          "0",
          "0",
          "0",
          "0",
          "0",
          "0",
          "0",
          "0",
          "0",
          "0",
          "0",
          "0",
          "0",
          "0",
          "0",
          "0",
          "0",
          "0",
          "0",
          "0",
          "0",
          "0",
          "0",
          "0",
          "0",
          "0",
          "0",
          "0",
          "0",
          "0",
          "0",
          "0",
          "0",
          "0",
          "0",
          "0",
          "0",
          "0",
          "0",
          "0",
          "0",
          "0",
          "0",
          "0",
          "0",
          "0",
          "0",
          "0",
          "0",
          "0",
          "0",
          "0",
          "0",
          "0",
          "0",
          "0",
          "0",
          "0",
          "0",
          "0",
          "0",
          "0",
          "0",
          "0",
          "0",
          "0",
          "0",
          "0",
          "0",
          "0",
          "0",
          "0",
          "0",
          "0",
          "0",
          "0",
          "0",
          "0",
          "0",
          "0",
          "0",
          "0",
          "0",
          "0",
          "0",
          "0",
          "0",
          "0",
          "0",
          "0",
          "0",
          "0",
          "0",
          "0",
          "0",
          "0",
          "0",
          "0",
          "0",
          "0",
          "0",
          "0",
          "0",
          "0",
          "0",
          "0",
          "0",
          "0",
          "0",
          "0",
          "0",
          "0",
          "0",
          "0",
          "0",
          "0",
          "0",
          "0",
          "0",
          "0",
          "0",
          "0",
          "0",
          "0",
          "0",
          "0",
          "0",
          "0",
          "0",
          "0",
          "0",
          "0",
          "0",
          "0",
          "0",
          "0",
          "0",
          "0",
          "0",
          "0",
          "0",
          "0",
          "0",
          "0",
          "0",
          "0",
          "0",
          "0",
          "0",
          "0",
          "0",
          "0",
          "0",
          "0",
          "0",
          "0",
          "0",
          "0",
          "0",
          "0",
          "0",
          "0",
          "0",
          "0",
          "0",
          "0",
          "0",
          "0",
          "0",
          "0",
          "0",
          "0",
          "0",
          "0",
          "0",
          "0",
          "0",
          "0",
          "0",
          "0",
          "0",
          "0",
          "0",
          "0",
          "0",
          "0",
          "0",
          "0",
          "0",
          "0",
          "0",
          "0",
          "0",
          "0",
          "0",
          "0",
          "0",
          "0",
          "0",
          "0",
          "0",
          "0",
          "0",
          "0",
          "0",
          "0",
          "0",
          "0",
          "0",
          "0",
          "0",
          "0",
          "0",
          "0",
          "0",
          "0",
          "0",
          "0",
          "0",
          "0",
          "0",
          "0",
          "0",
          "0",
          "0",
          "0",
          "0",
          "0",
          "0",
          "0",
          "0",
          "0",
          "0",
          "0",
          "0",
          "0",
          "0",
          "0",
          "0",
          "0",
          "0",
          "0",
          "0",
          "0",
          "0",
          "0",
          "0",
          "0",
          "0",
          "0",
          "0",
          "0",
          "0",
          "0",
          "0",
          "0",
          "0",
          "0",
          "0",
          "0",
          "0",
          "0",
          "0",
          "0",
          "0",
          "0",
          "0",
          "0",
          "0",
          "0",
          "0",
          "0",
          "0",
          "0",
          "0",
          "0",
          "0",
          "0",
          "0",
          "0",
          "0",
          "0",
          "0",
          "0",
          "0",
          "0",
          "0",
          "0",
          "0",
          "0",
          "0",
          "0",
          "0",
          "0",
          "0",
          "0",
          "0",
          "0",
          "0",
          "0",
          "0",
          "0",
          "0",
          "0",
          "0",
          "0",
          "0",
          "0",
          "0",
          "0",
          "0",
          "0",
          "0",
          "0",
          "0",
          "0",
          "0",
          "0",
          "0",
          "0",
          "0",
          "0",
          "0",
          "0",
          "0",
          "0",
          "0",
          "0",
          "0",
          "0",
          "0",
          "0",
          "0",
          "0",
          "0",
          "0",
          "0",
          "0",
          "0",
          "0",
          "0",
          "0",
          "0",
          "0",
          "0",
          "0",
          "0",
          "0",
          "0",
          "0",
          "0",
          "0",
          "0",
          "0",
          "0",
          "0",
          "0",
          "0",
          "0",
          "0",
          "0",
          "0",
          "0",
          "0",
          "0",
          "0",
          "0",
          "0",
          "0",
          "0",
          "0",
          "0",
          "0",
          "0",
          "0",
          "0",
          "0",
          "0",
          "0",
          "0",
          "0",
          "0",
          "0",
          "0",
          "0",
          "0",
          "0",
          "0",
          "0",
          "0",
          "0",
          "0",
          "0",
          "0",
          "0",
          "0",
          "0",
          "0",
          "0",
          "0",
          "0",
          "0",
          "0",
          "0",
          "0",
          "0",
          "0",
          "0",
          "0",
          "0",
          "0",
          "0",
          "0",
          "0",
          "0",
          "0",
          "0",
          "0",
          "0",
          "0",
          "0",
          "0",
          "0",
          "0",
          "0",
          "0",
          "0",
          "0",
          "0",
          "0",
          "0",
          "0",
          "0",
          "0",
          "0",
          "0",
          "0",
          "0",
          "0",
          "0",
          "0",
          "0",
          "0",
          "0",
          "0",
          "0",
          "0",
          "0",
          "0",
          "0",
          "0",
          "0",
          "0",
          "0",
          "0",
          "0",
          "0",
          "0",
          "0",
          "0",
          "0",
          "0",
          "0",
          "0",
          "0",
          "0",
          "0",
          "0",
          "0",
          "0",
          "0",
          "0",
          "0",
          "0",
          "0",
          "0",
          "0",
          "0",
          "0",
          "0",
          "0",
          "0",
          "0",
          "0",
          "0",
          "0",
          "0",
          "0",
          "0",
          "0",
          "0",
          "0",
          "0",
          "0",
          "0",
          "0",
          "0",
          "0",
          "0",
          "0",
          "0",
          "0",
          "0",
          "0",
          "0",
          "0",
          "0",
          "0",
          "0",
          "0",
          "0",
          "0",
          "0",
          "0",
          "0",
          "0",
          "0",
          "0",
          "0",
          "0",
          "0",
          "0",
          "0",
          "0",
          "0",
          "0",
          "0",
          "0",
          "0",
          "0",
          "0",
          "0",
          "0",
          "0",
          "0",
          "0",
          "0",
          "0",
          "0",
          "0",
          "0",
          "0",
          "0",
          "0",
          "0",
          "0",
          "0",
          "0",
          "0",
          "0",
          "0",
          "0",
          "0",
          "0",
          "0",
          "0",
          "0",
          "0",
          "0",
          "0",
          "0",
          "0",
          "0",
          "0",
          "0",
          "0",
          "0",
          "0",
          "0",
          "0",
          "0",
          "0",
          "0",
          "0",
          "0",
          "0",
          "0",
          "0",
          "0",
          "0",
          "0",
          "0",
          "0",
          "0",
          "0",
          "0",
          "0",
          "0",
          "0",
          "0",
          "0",
          "0",
          "0",
          "0",
          "0",
          "0",
          "0",
          "0",
          "0",
          "0",
          "0",
          "0",
          "0",
          "0",
          "0",
          "0",
          "0",
          "0",
          "0",
          "0",
          "0",
          "0",
          "0",
          "0",
          "0",
          "0",
          "0",
          "0",
          "0",
          "0",
          "0",
          "0",
          "0",
          "0",
          "0",
          "0",
          "0",
          "0",
          "0",
          "0",
          "0",
          "0",
          "0",
          "0",
          "0",
          "0",
          "0",
          "0",
          "0",
          "0",
          "0",
          "0",
          "0",
          "0",
          "0",
          "0",
          "0",
          "0",
          "0",
          "0",
          "0",
          "0",
          "0",
          "0",
          "0",
          "0",
          "0",
          "0",
          "0",
          "0",
          "0",
          "0",
          "0",
          "0",
          "0",
          "0",
          "0",
          "0",
          "0",
          "0",
          "0",
          "0",
          "0",
          "0",
          "0",
          "0",
          "0",
          "0",
          "0",
          "0",
          "0",
          "0",
          "0",
          "0",
          "0",
          "0",
          "0",
          "0",
          "0",
          "0",
          "0",
          "0",
          "0",
          "0",
          "0",
          "0",
          "0",
          "0",
          "0",
          "0",
          "0",
          "0",
          "0",
          "0",
          "0",
          "0",
          "0",
          "0",
          "0",
          "0",
          "0",
          "0",
          "0",
          "0",
          "0",
          "0",
          "0",
          "0",
          "0",
          "0",
          "0",
          "0",
          "0",
          "0",
          "0",
          "0",
          "0",
          "0",
          "0",
          "0",
          "0",
          "0",
          "0",
          "0",
          "0",
          "0",
          "0",
          "0",
          "0",
          "0",
          "0",
          "0",
          "0",
          "0",
          "0",
          "0",
          "0",
          "0",
          "0",
          "0",
          "0",
          "0",
          "0",
          "0",
          "0",
          "0",
          "0",
          "0",
          "0",
          "0",
          "0",
          "0",
          "0",
          "0",
          "0",
          "0",
          "0",
          "0",
          "0",
          "0",
          "0",
          "0",
          "0",
          "0",
          "0",
          "0",
          "0",
          "0",
          "0",
          "0",
          "0",
          "0",
          "0",
          "0",
          "0",
          "0",
          "0",
          "0",
          "0",
          "0",
          "0",
          "0",
          "0",
          "0",
          "0",
          "0",
          "0",
          "0",
          "0",
          "0",
          "0",
          "0",
          "0",
          "0",
          "0",
          "0",
          "0",
          "0",
          "0",
          "0",
          "0",
          "0",
          "0",
          "0",
          "0",
          "0",
          "0",
          "0",
          "0",
          "0",
          "0",
          "0",
          "0",
          "0",
          "0",
          "0",
          "0",
          "0",
          "0",
          "0",
          "0",
          "0",
          "0",
          "0",
          "0",
          "0",
          "0",
          "0",
          "0",
          "0",
          "0",
          "0",
          "0",
          "0",
          "0",
          "0",
          "0",
          "0",
          "0",
          "0",
          "0",
          "0",
          "0",
          "0",
          "0",
          "0",
          "0",
          "0",
          "0",
          "0",
          "0",
          "0",
          "0",
          "0",
          "0",
          "0",
          "0",
          "0",
          "0",
          "0",
          "0",
          "0",
          "0",
          "0",
          "0",
          "0",
          "0",
          "0",
          "0",
          "0",
          "0",
          "0",
          "0",
          "0",
          "0",
          "0",
          "0",
          "0",
          "0",
          "0",
          "0",
          "0",
          "0",
          "0",
          "0",
          "0",
          "0",
          "0",
          "0",
          "0",
          "0",
          "0",
          "0",
          "0",
          "0",
          "0",
          "0",
          "0",
          "0",
          "0",
          "0",
          "0",
          "0",
          "0",
          "0",
          "0",
          "0",
          "0",
          "0",
          "0",
          "0",
          "0",
          "0",
          "0",
          "0",
          "0",
          "0",
          "0",
          "0",
          "0",
          "0",
          "0",
          "0",
          "0",
          "0",
          "0",
          "0",
          "0",
          "0",
          "0",
          "0",
          "0",
          "0",
          "0",
          "0",
          "0",
          "0",
          "0",
          "0",
          "0",
          "0",
          "0",
          "0",
          "0",
          "0",
          "0",
          "0",
          "0",
          "0",
          "0",
          "0",
          "0",
          "0",
          "0",
          "0",
          "0",
          "0",
          "0",
          "0",
          "0",
          "0",
          "0",
          "0",
          "0",
          "0",
          "0",
          "0",
          "0",
          "0",
          "0",
          "0",
          "0",
          "0",
          "0",
          "0",
          "0",
          "0",
          "0",
          "0",
          "0",
          "0",
          "0",
          "0",
          "0",
          "0",
          "0",
          "0",
          "0",
          "0",
          "0",
          "0",
          "0",
          "0",
          "0",
          "0",
          "0",
          "0",
          "0",
          "0",
          "0",
          "0",
          "0",
          "0",
          "0",
          "0",
          "0",
          "0",
          "0",
          "0",
          "0",
          "0",
          "0",
          "0",
          "0",
          "0",
          "0",
          "0",
          "0",
          "0",
          "0",
          "0",
          "0",
          "0",
          "0",
          "0",
          "0"
         ],
         "yaxis": "y"
        },
        {
         "hovertemplate": "Likes=%{y}<br>Comment Length=%{x}<extra></extra>",
         "legendgroup": "2025-02-02T17:59:28Z",
         "marker": {
          "color": "#00cc96",
          "symbol": "circle"
         },
         "mode": "markers",
         "name": "2025-02-02T17:59:28Z",
         "showlegend": true,
         "type": "scattergl",
         "x": {
          "bdata": "AQ==",
          "dtype": "i1"
         },
         "xaxis": "x",
         "y": [
          "2025-02-02T17:59:28Z"
         ],
         "yaxis": "y"
        },
        {
         "hovertemplate": "Likes=%{y}<br>Comment Length=%{x}<extra></extra>",
         "legendgroup": "3",
         "marker": {
          "color": "#ab63fa",
          "symbol": "circle"
         },
         "mode": "markers",
         "name": "3",
         "showlegend": true,
         "type": "scattergl",
         "x": {
          "bdata": "GgA/AJwATQApAC8AHQB3AGAAIQApAEYALAAfAEcAIwA5ADIAQQBnAB4CVgBXAFIAbAAxAJ8BLQB/AGsANAAoAD4AcwA5ABMAQAA+AMQAJwAmAHEAKQAVACQA",
          "dtype": "i2"
         },
         "xaxis": "x",
         "y": [
          "3",
          "3",
          "3",
          "3",
          "3",
          "3",
          "3",
          "3",
          "3",
          "3",
          "3",
          "3",
          "3",
          "3",
          "3",
          "3",
          "3",
          "3",
          "3",
          "3",
          "3",
          "3",
          "3",
          "3",
          "3",
          "3",
          "3",
          "3",
          "3",
          "3",
          "3",
          "3",
          "3",
          "3",
          "3",
          "3",
          "3",
          "3",
          "3",
          "3",
          "3",
          "3",
          "3",
          "3",
          "3"
         ],
         "yaxis": "y"
        },
        {
         "hovertemplate": "Likes=%{y}<br>Comment Length=%{x}<extra></extra>",
         "legendgroup": "1",
         "marker": {
          "color": "#FFA15A",
          "symbol": "circle"
         },
         "mode": "markers",
         "name": "1",
         "showlegend": true,
         "type": "scattergl",
         "x": {
          "bdata": "RQAlAD4AIAB+ABwAIwBAABYAZAAyAD8AVQA4ADEAWQAKABEAUwAsAB4AtQAOAE8ALQA0ABAAUwAvABIAUwAmAOgAyABpAA4ADgBKAOYARAAWABQAdAA6ALIAFAAzADEAOQAQAAcALgA2ABsA3w0hACAAJQAiABsARQAoAB0AOAASAEcACwAOAA0AEwArABUAGAAYAEQALwAPADQANgBIALQAGgBGACgAKQAmAEIAHwAOAAcABwAUACkAIAAoAF4AEgAcADEAFAClABEACwBDAEcAHAAhAAcAZAAxAA8AYAAlAH4AJwCjAFMANgBGACMACQAzAC0ASwBnABUAVABiAFEANQAWAA8AewAgACQAKwDAAG8ATgArACcAMAAcAAABEgAuADgAMAAvABgALAAVAH0ACAARABwAHwAuABIACAA8ACAADwBPAAYAaAAoAGMAKAAoAC0AJgA6ACYAyAAeAGQARwAjACkAkABTABkAJgAYAAwBFQApADsAVwA8ACMAJABtAD0AIAA8AIwAPAB6AB8ADwAaABUAPQAyAKcMDQgVAA8ACgAGADYAQgAdAAwAFwAQAD8AYwAxADoARwARAC0AmQASAN4AMwBbACQAEgAQAA0AMgAKAA0AGQALABAARABjACMAVAArAIkAEQBKACsAewCDABAALAAbAAkAKQAvADMAHwAWACkAPgCQACMAVQB4AGEAHgBQAB0AFwAPADAALQA+ABQAGgBDAAwAGQAdADMAGQBeABoANwAoACAAMQA/AGIAMAAzAEABWQB+AH8AOgBPADEAmAAlAEwADgBNAEgAPgAZADEAEQALAB0AMgAJACYANAAeADEAQAAsADsAGQAuAA0ABwEdAAwALAAbACkAOwBjADIAewAgAAwA2wBWAEoAPwApAA4AOwBnAFMA",
          "dtype": "i2"
         },
         "xaxis": "x",
         "y": [
          "1",
          "1",
          "1",
          "1",
          "1",
          "1",
          "1",
          "1",
          "1",
          "1",
          "1",
          "1",
          "1",
          "1",
          "1",
          "1",
          "1",
          "1",
          "1",
          "1",
          "1",
          "1",
          "1",
          "1",
          "1",
          "1",
          "1",
          "1",
          "1",
          "1",
          "1",
          "1",
          "1",
          "1",
          "1",
          "1",
          "1",
          "1",
          "1",
          "1",
          "1",
          "1",
          "1",
          "1",
          "1",
          "1",
          "1",
          "1",
          "1",
          "1",
          "1",
          "1",
          "1",
          "1",
          "1",
          "1",
          "1",
          "1",
          "1",
          "1",
          "1",
          "1",
          "1",
          "1",
          "1",
          "1",
          "1",
          "1",
          "1",
          "1",
          "1",
          "1",
          "1",
          "1",
          "1",
          "1",
          "1",
          "1",
          "1",
          "1",
          "1",
          "1",
          "1",
          "1",
          "1",
          "1",
          "1",
          "1",
          "1",
          "1",
          "1",
          "1",
          "1",
          "1",
          "1",
          "1",
          "1",
          "1",
          "1",
          "1",
          "1",
          "1",
          "1",
          "1",
          "1",
          "1",
          "1",
          "1",
          "1",
          "1",
          "1",
          "1",
          "1",
          "1",
          "1",
          "1",
          "1",
          "1",
          "1",
          "1",
          "1",
          "1",
          "1",
          "1",
          "1",
          "1",
          "1",
          "1",
          "1",
          "1",
          "1",
          "1",
          "1",
          "1",
          "1",
          "1",
          "1",
          "1",
          "1",
          "1",
          "1",
          "1",
          "1",
          "1",
          "1",
          "1",
          "1",
          "1",
          "1",
          "1",
          "1",
          "1",
          "1",
          "1",
          "1",
          "1",
          "1",
          "1",
          "1",
          "1",
          "1",
          "1",
          "1",
          "1",
          "1",
          "1",
          "1",
          "1",
          "1",
          "1",
          "1",
          "1",
          "1",
          "1",
          "1",
          "1",
          "1",
          "1",
          "1",
          "1",
          "1",
          "1",
          "1",
          "1",
          "1",
          "1",
          "1",
          "1",
          "1",
          "1",
          "1",
          "1",
          "1",
          "1",
          "1",
          "1",
          "1",
          "1",
          "1",
          "1",
          "1",
          "1",
          "1",
          "1",
          "1",
          "1",
          "1",
          "1",
          "1",
          "1",
          "1",
          "1",
          "1",
          "1",
          "1",
          "1",
          "1",
          "1",
          "1",
          "1",
          "1",
          "1",
          "1",
          "1",
          "1",
          "1",
          "1",
          "1",
          "1",
          "1",
          "1",
          "1",
          "1",
          "1",
          "1",
          "1",
          "1",
          "1",
          "1",
          "1",
          "1",
          "1",
          "1",
          "1",
          "1",
          "1",
          "1",
          "1",
          "1",
          "1",
          "1",
          "1",
          "1",
          "1",
          "1",
          "1",
          "1",
          "1",
          "1",
          "1",
          "1",
          "1",
          "1",
          "1",
          "1",
          "1",
          "1",
          "1",
          "1",
          "1",
          "1",
          "1",
          "1",
          "1",
          "1",
          "1",
          "1",
          "1",
          "1",
          "1",
          "1",
          "1",
          "1",
          "1",
          "1",
          "1",
          "1",
          "1",
          "1",
          "1",
          "1",
          "1",
          "1",
          "1",
          "1",
          "1",
          "1",
          "1",
          "1",
          "1",
          "1",
          "1",
          "1",
          "1",
          "1",
          "1",
          "1",
          "1",
          "1",
          "1",
          "1",
          "1",
          "1",
          "1",
          "1",
          "1",
          "1",
          "1",
          "1",
          "1",
          "1",
          "1",
          "1",
          "1",
          "1",
          "1",
          "1",
          "1",
          "1",
          "1",
          "1",
          "1",
          "1",
          "1",
          "1",
          "1",
          "1",
          "1",
          "1",
          "1",
          "1",
          "1",
          "1",
          "1",
          "1"
         ],
         "yaxis": "y"
        },
        {
         "hovertemplate": "Likes=%{y}<br>Comment Length=%{x}<extra></extra>",
         "legendgroup": "5",
         "marker": {
          "color": "#19d3f3",
          "symbol": "circle"
         },
         "mode": "markers",
         "name": "5",
         "showlegend": true,
         "type": "scattergl",
         "x": {
          "bdata": "UgAzACEA+gA9AB8AUABmAE4AOAA/AA==",
          "dtype": "i2"
         },
         "xaxis": "x",
         "y": [
          "5",
          "5",
          "5",
          "5",
          "5",
          "5",
          "5",
          "5",
          "5",
          "5",
          "5"
         ],
         "yaxis": "y"
        },
        {
         "hovertemplate": "Likes=%{y}<br>Comment Length=%{x}<extra></extra>",
         "legendgroup": "2",
         "marker": {
          "color": "#FF6692",
          "symbol": "circle"
         },
         "mode": "markers",
         "name": "2",
         "showlegend": true,
         "type": "scattergl",
         "x": {
          "bdata": "DABzACIAGAAjABEAFwAIACEAJgAxABoAHABfAC8AFQBdABAAGQA4ACAAkwCJAB0AQgAkAAcAJwAkADAAFAArACQABAJEAEkAOgBCAEwAqQBJAFIAHgBGAH4AKQAhAF4ATQBHACoAJgAuABcAEwCGACQAVAAqABYAQQBNADYAbQAcAA4ALQAOAE8AHgApAC0AXwCjAE4ASgAyAHQAKAAaAA0AYABbAB0ANwBBAKQATgApAIsAVwBYANkAIgAzACwAWQBGABUANgBMAEwAPwBCALkAbACkAE8AIwC6AHIAKgA+AGEAKwAaABMAGAAlAAgACgA=",
          "dtype": "i2"
         },
         "xaxis": "x",
         "y": [
          "2",
          "2",
          "2",
          "2",
          "2",
          "2",
          "2",
          "2",
          "2",
          "2",
          "2",
          "2",
          "2",
          "2",
          "2",
          "2",
          "2",
          "2",
          "2",
          "2",
          "2",
          "2",
          "2",
          "2",
          "2",
          "2",
          "2",
          "2",
          "2",
          "2",
          "2",
          "2",
          "2",
          "2",
          "2",
          "2",
          "2",
          "2",
          "2",
          "2",
          "2",
          "2",
          "2",
          "2",
          "2",
          "2",
          "2",
          "2",
          "2",
          "2",
          "2",
          "2",
          "2",
          "2",
          "2",
          "2",
          "2",
          "2",
          "2",
          "2",
          "2",
          "2",
          "2",
          "2",
          "2",
          "2",
          "2",
          "2",
          "2",
          "2",
          "2",
          "2",
          "2",
          "2",
          "2",
          "2",
          "2",
          "2",
          "2",
          "2",
          "2",
          "2",
          "2",
          "2",
          "2",
          "2",
          "2",
          "2",
          "2",
          "2",
          "2",
          "2",
          "2",
          "2",
          "2",
          "2",
          "2",
          "2",
          "2",
          "2",
          "2",
          "2",
          "2",
          "2",
          "2",
          "2",
          "2",
          "2",
          "2",
          "2",
          "2",
          "2",
          "2",
          "2",
          "2",
          "2",
          "2",
          "2",
          "2",
          "2",
          "2"
         ],
         "yaxis": "y"
        },
        {
         "hovertemplate": "Likes=%{y}<br>Comment Length=%{x}<extra></extra>",
         "legendgroup": "4",
         "marker": {
          "color": "#B6E880",
          "symbol": "circle"
         },
         "mode": "markers",
         "name": "4",
         "showlegend": true,
         "type": "scattergl",
         "x": {
          "bdata": "PAA6AFUALAAoACIAHwBMACAATgBtAC4AUAAdAEQAxAAYABoAZgDTABYAIgBTAA==",
          "dtype": "i2"
         },
         "xaxis": "x",
         "y": [
          "4",
          "4",
          "4",
          "4",
          "4",
          "4",
          "4",
          "4",
          "4",
          "4",
          "4",
          "4",
          "4",
          "4",
          "4",
          "4",
          "4",
          "4",
          "4",
          "4",
          "4",
          "4",
          "4"
         ],
         "yaxis": "y"
        },
        {
         "hovertemplate": "Likes=%{y}<br>Comment Length=%{x}<extra></extra>",
         "legendgroup": "123",
         "marker": {
          "color": "#FF97FF",
          "symbol": "circle"
         },
         "mode": "markers",
         "name": "123",
         "showlegend": true,
         "type": "scattergl",
         "x": {
          "bdata": "owA=",
          "dtype": "i2"
         },
         "xaxis": "x",
         "y": [
          "123"
         ],
         "yaxis": "y"
        },
        {
         "hovertemplate": "Likes=%{y}<br>Comment Length=%{x}<extra></extra>",
         "legendgroup": "6",
         "marker": {
          "color": "#FECB52",
          "symbol": "circle"
         },
         "mode": "markers",
         "name": "6",
         "showlegend": true,
         "type": "scattergl",
         "x": {
          "bdata": "TgA6AIEAQwATACwAGQAlADIADQA=",
          "dtype": "i2"
         },
         "xaxis": "x",
         "y": [
          "6",
          "6",
          "6",
          "6",
          "6",
          "6",
          "6",
          "6",
          "6",
          "6"
         ],
         "yaxis": "y"
        },
        {
         "hovertemplate": "Likes=%{y}<br>Comment Length=%{x}<extra></extra>",
         "legendgroup": "10",
         "marker": {
          "color": "#636efa",
          "symbol": "circle"
         },
         "mode": "markers",
         "name": "10",
         "showlegend": true,
         "type": "scattergl",
         "x": {
          "bdata": "JDEU",
          "dtype": "i1"
         },
         "xaxis": "x",
         "y": [
          "10",
          "10",
          "10"
         ],
         "yaxis": "y"
        },
        {
         "hovertemplate": "Likes=%{y}<br>Comment Length=%{x}<extra></extra>",
         "legendgroup": "26",
         "marker": {
          "color": "#EF553B",
          "symbol": "circle"
         },
         "mode": "markers",
         "name": "26",
         "showlegend": true,
         "type": "scattergl",
         "x": {
          "bdata": "ERNWQA==",
          "dtype": "i1"
         },
         "xaxis": "x",
         "y": [
          "26",
          "26",
          "26",
          "26"
         ],
         "yaxis": "y"
        },
        {
         "hovertemplate": "Likes=%{y}<br>Comment Length=%{x}<extra></extra>",
         "legendgroup": "13",
         "marker": {
          "color": "#00cc96",
          "symbol": "circle"
         },
         "mode": "markers",
         "name": "13",
         "showlegend": true,
         "type": "scattergl",
         "x": {
          "bdata": "GVNnRmM=",
          "dtype": "i1"
         },
         "xaxis": "x",
         "y": [
          "13",
          "13",
          "13",
          "13",
          "13"
         ],
         "yaxis": "y"
        },
        {
         "hovertemplate": "Likes=%{y}<br>Comment Length=%{x}<extra></extra>",
         "legendgroup": "2024-11-05T11:43:04Z",
         "marker": {
          "color": "#ab63fa",
          "symbol": "circle"
         },
         "mode": "markers",
         "name": "2024-11-05T11:43:04Z",
         "showlegend": true,
         "type": "scattergl",
         "x": {
          "bdata": "AQ==",
          "dtype": "i1"
         },
         "xaxis": "x",
         "y": [
          "2024-11-05T11:43:04Z"
         ],
         "yaxis": "y"
        },
        {
         "hovertemplate": "Likes=%{y}<br>Comment Length=%{x}<extra></extra>",
         "legendgroup": "41",
         "marker": {
          "color": "#FFA15A",
          "symbol": "circle"
         },
         "mode": "markers",
         "name": "41",
         "showlegend": true,
         "type": "scattergl",
         "x": {
          "bdata": "LDM+",
          "dtype": "i1"
         },
         "xaxis": "x",
         "y": [
          "41",
          "41",
          "41"
         ],
         "yaxis": "y"
        },
        {
         "hovertemplate": "Likes=%{y}<br>Comment Length=%{x}<extra></extra>",
         "legendgroup": "12",
         "marker": {
          "color": "#19d3f3",
          "symbol": "circle"
         },
         "mode": "markers",
         "name": "12",
         "showlegend": true,
         "type": "scattergl",
         "x": {
          "bdata": "HEZGEg==",
          "dtype": "i1"
         },
         "xaxis": "x",
         "y": [
          "12",
          "12",
          "12",
          "12"
         ],
         "yaxis": "y"
        },
        {
         "hovertemplate": "Likes=%{y}<br>Comment Length=%{x}<extra></extra>",
         "legendgroup": "139",
         "marker": {
          "color": "#FF6692",
          "symbol": "circle"
         },
         "mode": "markers",
         "name": "139",
         "showlegend": true,
         "type": "scattergl",
         "x": {
          "bdata": "ZA==",
          "dtype": "i1"
         },
         "xaxis": "x",
         "y": [
          "139"
         ],
         "yaxis": "y"
        },
        {
         "hovertemplate": "Likes=%{y}<br>Comment Length=%{x}<extra></extra>",
         "legendgroup": "7",
         "marker": {
          "color": "#B6E880",
          "symbol": "circle"
         },
         "mode": "markers",
         "name": "7",
         "showlegend": true,
         "type": "scattergl",
         "x": {
          "bdata": "FgAtAFoAawGsAEQAagA9AEUAbQBUAD0A",
          "dtype": "i2"
         },
         "xaxis": "x",
         "y": [
          "7",
          "7",
          "7",
          "7",
          "7",
          "7",
          "7",
          "7",
          "7",
          "7",
          "7",
          "7"
         ],
         "yaxis": "y"
        },
        {
         "hovertemplate": "Likes=%{y}<br>Comment Length=%{x}<extra></extra>",
         "legendgroup": "2024-09-24T14:57:12Z",
         "marker": {
          "color": "#FF97FF",
          "symbol": "circle"
         },
         "mode": "markers",
         "name": "2024-09-24T14:57:12Z",
         "showlegend": true,
         "type": "scattergl",
         "x": {
          "bdata": "AQ==",
          "dtype": "i1"
         },
         "xaxis": "x",
         "y": [
          "2024-09-24T14:57:12Z"
         ],
         "yaxis": "y"
        },
        {
         "hovertemplate": "Likes=%{y}<br>Comment Length=%{x}<extra></extra>",
         "legendgroup": "40",
         "marker": {
          "color": "#FECB52",
          "symbol": "circle"
         },
         "mode": "markers",
         "name": "40",
         "showlegend": true,
         "type": "scattergl",
         "x": {
          "bdata": "SQFbAA==",
          "dtype": "i2"
         },
         "xaxis": "x",
         "y": [
          "40",
          "40"
         ],
         "yaxis": "y"
        },
        {
         "hovertemplate": "Likes=%{y}<br>Comment Length=%{x}<extra></extra>",
         "legendgroup": "536",
         "marker": {
          "color": "#636efa",
          "symbol": "circle"
         },
         "mode": "markers",
         "name": "536",
         "showlegend": true,
         "type": "scattergl",
         "x": {
          "bdata": "Sw==",
          "dtype": "i1"
         },
         "xaxis": "x",
         "y": [
          "536"
         ],
         "yaxis": "y"
        },
        {
         "hovertemplate": "Likes=%{y}<br>Comment Length=%{x}<extra></extra>",
         "legendgroup": "1512",
         "marker": {
          "color": "#EF553B",
          "symbol": "circle"
         },
         "mode": "markers",
         "name": "1512",
         "showlegend": true,
         "type": "scattergl",
         "x": {
          "bdata": "Vg==",
          "dtype": "i1"
         },
         "xaxis": "x",
         "y": [
          "1512"
         ],
         "yaxis": "y"
        },
        {
         "hovertemplate": "Likes=%{y}<br>Comment Length=%{x}<extra></extra>",
         "legendgroup": "88",
         "marker": {
          "color": "#00cc96",
          "symbol": "circle"
         },
         "mode": "markers",
         "name": "88",
         "showlegend": true,
         "type": "scattergl",
         "x": {
          "bdata": "fg==",
          "dtype": "i1"
         },
         "xaxis": "x",
         "y": [
          "88"
         ],
         "yaxis": "y"
        },
        {
         "hovertemplate": "Likes=%{y}<br>Comment Length=%{x}<extra></extra>",
         "legendgroup": "61",
         "marker": {
          "color": "#ab63fa",
          "symbol": "circle"
         },
         "mode": "markers",
         "name": "61",
         "showlegend": true,
         "type": "scattergl",
         "x": {
          "bdata": "SQ==",
          "dtype": "i1"
         },
         "xaxis": "x",
         "y": [
          "61"
         ],
         "yaxis": "y"
        },
        {
         "hovertemplate": "Likes=%{y}<br>Comment Length=%{x}<extra></extra>",
         "legendgroup": "81",
         "marker": {
          "color": "#FFA15A",
          "symbol": "circle"
         },
         "mode": "markers",
         "name": "81",
         "showlegend": true,
         "type": "scattergl",
         "x": {
          "bdata": "Pg==",
          "dtype": "i1"
         },
         "xaxis": "x",
         "y": [
          "81"
         ],
         "yaxis": "y"
        },
        {
         "hovertemplate": "Likes=%{y}<br>Comment Length=%{x}<extra></extra>",
         "legendgroup": "36",
         "marker": {
          "color": "#19d3f3",
          "symbol": "circle"
         },
         "mode": "markers",
         "name": "36",
         "showlegend": true,
         "type": "scattergl",
         "x": {
          "bdata": "tgBYAA==",
          "dtype": "i2"
         },
         "xaxis": "x",
         "y": [
          "36",
          "36"
         ],
         "yaxis": "y"
        },
        {
         "hovertemplate": "Likes=%{y}<br>Comment Length=%{x}<extra></extra>",
         "legendgroup": "2023-09-16T07:57:06Z",
         "marker": {
          "color": "#FF6692",
          "symbol": "circle"
         },
         "mode": "markers",
         "name": "2023-09-16T07:57:06Z",
         "showlegend": true,
         "type": "scattergl",
         "x": {
          "bdata": "AQ==",
          "dtype": "i1"
         },
         "xaxis": "x",
         "y": [
          "2023-09-16T07:57:06Z"
         ],
         "yaxis": "y"
        },
        {
         "hovertemplate": "Likes=%{y}<br>Comment Length=%{x}<extra></extra>",
         "legendgroup": "38",
         "marker": {
          "color": "#B6E880",
          "symbol": "circle"
         },
         "mode": "markers",
         "name": "38",
         "showlegend": true,
         "type": "scattergl",
         "x": {
          "bdata": "JRY=",
          "dtype": "i1"
         },
         "xaxis": "x",
         "y": [
          "38",
          "38"
         ],
         "yaxis": "y"
        },
        {
         "hovertemplate": "Likes=%{y}<br>Comment Length=%{x}<extra></extra>",
         "legendgroup": "53",
         "marker": {
          "color": "#FF97FF",
          "symbol": "circle"
         },
         "mode": "markers",
         "name": "53",
         "showlegend": true,
         "type": "scattergl",
         "x": {
          "bdata": "Zg==",
          "dtype": "i1"
         },
         "xaxis": "x",
         "y": [
          "53"
         ],
         "yaxis": "y"
        },
        {
         "hovertemplate": "Likes=%{y}<br>Comment Length=%{x}<extra></extra>",
         "legendgroup": "257",
         "marker": {
          "color": "#FECB52",
          "symbol": "circle"
         },
         "mode": "markers",
         "name": "257",
         "showlegend": true,
         "type": "scattergl",
         "x": {
          "bdata": "aA==",
          "dtype": "i1"
         },
         "xaxis": "x",
         "y": [
          "257"
         ],
         "yaxis": "y"
        },
        {
         "hovertemplate": "Likes=%{y}<br>Comment Length=%{x}<extra></extra>",
         "legendgroup": " work together he says\\\" ",
         "marker": {
          "color": "#636efa",
          "symbol": "circle"
         },
         "mode": "markers",
         "name": " work together he says\\\" ",
         "showlegend": true,
         "type": "scattergl",
         "x": {
          "bdata": "FA==",
          "dtype": "i1"
         },
         "xaxis": "x",
         "y": [
          " work together he says\\\" "
         ],
         "yaxis": "y"
        },
        {
         "hovertemplate": "Likes=%{y}<br>Comment Length=%{x}<extra></extra>",
         "legendgroup": "18",
         "marker": {
          "color": "#EF553B",
          "symbol": "circle"
         },
         "mode": "markers",
         "name": "18",
         "showlegend": true,
         "type": "scattergl",
         "x": {
          "bdata": "FCE=",
          "dtype": "i1"
         },
         "xaxis": "x",
         "y": [
          "18",
          "18"
         ],
         "yaxis": "y"
        },
        {
         "hovertemplate": "Likes=%{y}<br>Comment Length=%{x}<extra></extra>",
         "legendgroup": "327",
         "marker": {
          "color": "#00cc96",
          "symbol": "circle"
         },
         "mode": "markers",
         "name": "327",
         "showlegend": true,
         "type": "scattergl",
         "x": {
          "bdata": "owA=",
          "dtype": "i2"
         },
         "xaxis": "x",
         "y": [
          "327"
         ],
         "yaxis": "y"
        },
        {
         "hovertemplate": "Likes=%{y}<br>Comment Length=%{x}<extra></extra>",
         "legendgroup": "972",
         "marker": {
          "color": "#ab63fa",
          "symbol": "circle"
         },
         "mode": "markers",
         "name": "972",
         "showlegend": true,
         "type": "scattergl",
         "x": {
          "bdata": "DQ==",
          "dtype": "i1"
         },
         "xaxis": "x",
         "y": [
          "972"
         ],
         "yaxis": "y"
        },
        {
         "hovertemplate": "Likes=%{y}<br>Comment Length=%{x}<extra></extra>",
         "legendgroup": "49",
         "marker": {
          "color": "#FFA15A",
          "symbol": "circle"
         },
         "mode": "markers",
         "name": "49",
         "showlegend": true,
         "type": "scattergl",
         "x": {
          "bdata": "cA==",
          "dtype": "i1"
         },
         "xaxis": "x",
         "y": [
          "49"
         ],
         "yaxis": "y"
        },
        {
         "hovertemplate": "Likes=%{y}<br>Comment Length=%{x}<extra></extra>",
         "legendgroup": "14",
         "marker": {
          "color": "#19d3f3",
          "symbol": "circle"
         },
         "mode": "markers",
         "name": "14",
         "showlegend": true,
         "type": "scattergl",
         "x": {
          "bdata": "Dm8=",
          "dtype": "i1"
         },
         "xaxis": "x",
         "y": [
          "14",
          "14"
         ],
         "yaxis": "y"
        },
        {
         "hovertemplate": "Likes=%{y}<br>Comment Length=%{x}<extra></extra>",
         "legendgroup": "2023-06-12T22:32:41Z",
         "marker": {
          "color": "#FF6692",
          "symbol": "circle"
         },
         "mode": "markers",
         "name": "2023-06-12T22:32:41Z",
         "showlegend": true,
         "type": "scattergl",
         "x": {
          "bdata": "AQ==",
          "dtype": "i1"
         },
         "xaxis": "x",
         "y": [
          "2023-06-12T22:32:41Z"
         ],
         "yaxis": "y"
        },
        {
         "hovertemplate": "Likes=%{y}<br>Comment Length=%{x}<extra></extra>",
         "legendgroup": "20",
         "marker": {
          "color": "#B6E880",
          "symbol": "circle"
         },
         "mode": "markers",
         "name": "20",
         "showlegend": true,
         "type": "scattergl",
         "x": {
          "bdata": "V2hE",
          "dtype": "i1"
         },
         "xaxis": "x",
         "y": [
          "20",
          "20",
          "20"
         ],
         "yaxis": "y"
        },
        {
         "hovertemplate": "Likes=%{y}<br>Comment Length=%{x}<extra></extra>",
         "legendgroup": "525",
         "marker": {
          "color": "#FF97FF",
          "symbol": "circle"
         },
         "mode": "markers",
         "name": "525",
         "showlegend": true,
         "type": "scattergl",
         "x": {
          "bdata": "Pg==",
          "dtype": "i1"
         },
         "xaxis": "x",
         "y": [
          "525"
         ],
         "yaxis": "y"
        },
        {
         "hovertemplate": "Likes=%{y}<br>Comment Length=%{x}<extra></extra>",
         "legendgroup": "99",
         "marker": {
          "color": "#FECB52",
          "symbol": "circle"
         },
         "mode": "markers",
         "name": "99",
         "showlegend": true,
         "type": "scattergl",
         "x": {
          "bdata": "Kw==",
          "dtype": "i1"
         },
         "xaxis": "x",
         "y": [
          "99"
         ],
         "yaxis": "y"
        },
        {
         "hovertemplate": "Likes=%{y}<br>Comment Length=%{x}<extra></extra>",
         "legendgroup": "436",
         "marker": {
          "color": "#636efa",
          "symbol": "circle"
         },
         "mode": "markers",
         "name": "436",
         "showlegend": true,
         "type": "scattergl",
         "x": {
          "bdata": "9wA=",
          "dtype": "i2"
         },
         "xaxis": "x",
         "y": [
          "436"
         ],
         "yaxis": "y"
        },
        {
         "hovertemplate": "Likes=%{y}<br>Comment Length=%{x}<extra></extra>",
         "legendgroup": "60",
         "marker": {
          "color": "#EF553B",
          "symbol": "circle"
         },
         "mode": "markers",
         "name": "60",
         "showlegend": true,
         "type": "scattergl",
         "x": {
          "bdata": "kAA=",
          "dtype": "i2"
         },
         "xaxis": "x",
         "y": [
          "60"
         ],
         "yaxis": "y"
        },
        {
         "hovertemplate": "Likes=%{y}<br>Comment Length=%{x}<extra></extra>",
         "legendgroup": "2023-05-27T01:52:03Z",
         "marker": {
          "color": "#00cc96",
          "symbol": "circle"
         },
         "mode": "markers",
         "name": "2023-05-27T01:52:03Z",
         "showlegend": true,
         "type": "scattergl",
         "x": {
          "bdata": "AQ==",
          "dtype": "i1"
         },
         "xaxis": "x",
         "y": [
          "2023-05-27T01:52:03Z"
         ],
         "yaxis": "y"
        },
        {
         "hovertemplate": "Likes=%{y}<br>Comment Length=%{x}<extra></extra>",
         "legendgroup": "251",
         "marker": {
          "color": "#ab63fa",
          "symbol": "circle"
         },
         "mode": "markers",
         "name": "251",
         "showlegend": true,
         "type": "scattergl",
         "x": {
          "bdata": "QwCFAA==",
          "dtype": "i2"
         },
         "xaxis": "x",
         "y": [
          "251",
          "251"
         ],
         "yaxis": "y"
        },
        {
         "hovertemplate": "Likes=%{y}<br>Comment Length=%{x}<extra></extra>",
         "legendgroup": " Toretto. Get your ass out of the car now.\\\"",
         "marker": {
          "color": "#FFA15A",
          "symbol": "circle"
         },
         "mode": "markers",
         "name": " Toretto. Get your ass out of the car now.\\\"",
         "showlegend": true,
         "type": "scattergl",
         "x": {
          "bdata": "Tg==",
          "dtype": "i1"
         },
         "xaxis": "x",
         "y": [
          " Toretto. Get your ass out of the car now.\\\""
         ],
         "yaxis": "y"
        },
        {
         "hovertemplate": "Likes=%{y}<br>Comment Length=%{x}<extra></extra>",
         "legendgroup": "2023-05-23T23:28:15Z",
         "marker": {
          "color": "#19d3f3",
          "symbol": "circle"
         },
         "mode": "markers",
         "name": "2023-05-23T23:28:15Z",
         "showlegend": true,
         "type": "scattergl",
         "x": {
          "bdata": "Ag==",
          "dtype": "i1"
         },
         "xaxis": "x",
         "y": [
          "2023-05-23T23:28:15Z"
         ],
         "yaxis": "y"
        },
        {
         "hovertemplate": "Likes=%{y}<br>Comment Length=%{x}<extra></extra>",
         "legendgroup": "8563",
         "marker": {
          "color": "#FF6692",
          "symbol": "circle"
         },
         "mode": "markers",
         "name": "8563",
         "showlegend": true,
         "type": "scattergl",
         "x": {
          "bdata": "TQE=",
          "dtype": "i2"
         },
         "xaxis": "x",
         "y": [
          "8563"
         ],
         "yaxis": "y"
        },
        {
         "hovertemplate": "Likes=%{y}<br>Comment Length=%{x}<extra></extra>",
         "legendgroup": "2023-05-19T06:22:31Z",
         "marker": {
          "color": "#B6E880",
          "symbol": "circle"
         },
         "mode": "markers",
         "name": "2023-05-19T06:22:31Z",
         "showlegend": true,
         "type": "scattergl",
         "x": {
          "bdata": "AQ==",
          "dtype": "i1"
         },
         "xaxis": "x",
         "y": [
          "2023-05-19T06:22:31Z"
         ],
         "yaxis": "y"
        },
        {
         "hovertemplate": "Likes=%{y}<br>Comment Length=%{x}<extra></extra>",
         "legendgroup": "2023-05-15T13:03:52Z",
         "marker": {
          "color": "#FF97FF",
          "symbol": "circle"
         },
         "mode": "markers",
         "name": "2023-05-15T13:03:52Z",
         "showlegend": true,
         "type": "scattergl",
         "x": {
          "bdata": "AQ==",
          "dtype": "i1"
         },
         "xaxis": "x",
         "y": [
          "2023-05-15T13:03:52Z"
         ],
         "yaxis": "y"
        },
        {
         "hovertemplate": "Likes=%{y}<br>Comment Length=%{x}<extra></extra>",
         "legendgroup": "2023-05-07T18:09:24Z",
         "marker": {
          "color": "#FECB52",
          "symbol": "circle"
         },
         "mode": "markers",
         "name": "2023-05-07T18:09:24Z",
         "showlegend": true,
         "type": "scattergl",
         "x": {
          "bdata": "Aw==",
          "dtype": "i1"
         },
         "xaxis": "x",
         "y": [
          "2023-05-07T18:09:24Z"
         ],
         "yaxis": "y"
        },
        {
         "hovertemplate": "Likes=%{y}<br>Comment Length=%{x}<extra></extra>",
         "legendgroup": "27",
         "marker": {
          "color": "#636efa",
          "symbol": "circle"
         },
         "mode": "markers",
         "name": "27",
         "showlegend": true,
         "type": "scattergl",
         "x": {
          "bdata": "VA==",
          "dtype": "i1"
         },
         "xaxis": "x",
         "y": [
          "27"
         ],
         "yaxis": "y"
        },
        {
         "hovertemplate": "Likes=%{y}<br>Comment Length=%{x}<extra></extra>",
         "legendgroup": "69",
         "marker": {
          "color": "#EF553B",
          "symbol": "circle"
         },
         "mode": "markers",
         "name": "69",
         "showlegend": true,
         "type": "scattergl",
         "x": {
          "bdata": "YAIDAQ==",
          "dtype": "i2"
         },
         "xaxis": "x",
         "y": [
          "69",
          "69"
         ],
         "yaxis": "y"
        },
        {
         "hovertemplate": "Likes=%{y}<br>Comment Length=%{x}<extra></extra>",
         "legendgroup": "47",
         "marker": {
          "color": "#00cc96",
          "symbol": "circle"
         },
         "mode": "markers",
         "name": "47",
         "showlegend": true,
         "type": "scattergl",
         "x": {
          "bdata": "FEw=",
          "dtype": "i1"
         },
         "xaxis": "x",
         "y": [
          "47",
          "47"
         ],
         "yaxis": "y"
        },
        {
         "hovertemplate": "Likes=%{y}<br>Comment Length=%{x}<extra></extra>",
         "legendgroup": "2023-03-31T21:55:12Z",
         "marker": {
          "color": "#ab63fa",
          "symbol": "circle"
         },
         "mode": "markers",
         "name": "2023-03-31T21:55:12Z",
         "showlegend": true,
         "type": "scattergl",
         "x": {
          "bdata": "AQ==",
          "dtype": "i1"
         },
         "xaxis": "x",
         "y": [
          "2023-03-31T21:55:12Z"
         ],
         "yaxis": "y"
        },
        {
         "hovertemplate": "Likes=%{y}<br>Comment Length=%{x}<extra></extra>",
         "legendgroup": "1343",
         "marker": {
          "color": "#FFA15A",
          "symbol": "circle"
         },
         "mode": "markers",
         "name": "1343",
         "showlegend": true,
         "type": "scattergl",
         "x": {
          "bdata": "EQE=",
          "dtype": "i2"
         },
         "xaxis": "x",
         "y": [
          "1343"
         ],
         "yaxis": "y"
        },
        {
         "hovertemplate": "Likes=%{y}<br>Comment Length=%{x}<extra></extra>",
         "legendgroup": "263",
         "marker": {
          "color": "#19d3f3",
          "symbol": "circle"
         },
         "mode": "markers",
         "name": "263",
         "showlegend": true,
         "type": "scattergl",
         "x": {
          "bdata": "iAA=",
          "dtype": "i2"
         },
         "xaxis": "x",
         "y": [
          "263"
         ],
         "yaxis": "y"
        },
        {
         "hovertemplate": "Likes=%{y}<br>Comment Length=%{x}<extra></extra>",
         "legendgroup": "2023-03-19T20:04:26Z",
         "marker": {
          "color": "#FF6692",
          "symbol": "circle"
         },
         "mode": "markers",
         "name": "2023-03-19T20:04:26Z",
         "showlegend": true,
         "type": "scattergl",
         "x": {
          "bdata": "AQ==",
          "dtype": "i1"
         },
         "xaxis": "x",
         "y": [
          "2023-03-19T20:04:26Z"
         ],
         "yaxis": "y"
        },
        {
         "hovertemplate": "Likes=%{y}<br>Comment Length=%{x}<extra></extra>",
         "legendgroup": "9",
         "marker": {
          "color": "#B6E880",
          "symbol": "circle"
         },
         "mode": "markers",
         "name": "9",
         "showlegend": true,
         "type": "scattergl",
         "x": {
          "bdata": "bQpIbA==",
          "dtype": "i1"
         },
         "xaxis": "x",
         "y": [
          "9",
          "9",
          "9",
          "9"
         ],
         "yaxis": "y"
        },
        {
         "hovertemplate": "Likes=%{y}<br>Comment Length=%{x}<extra></extra>",
         "legendgroup": "21",
         "marker": {
          "color": "#FF97FF",
          "symbol": "circle"
         },
         "mode": "markers",
         "name": "21",
         "showlegend": true,
         "type": "scattergl",
         "x": {
          "bdata": "LiQ=",
          "dtype": "i1"
         },
         "xaxis": "x",
         "y": [
          "21",
          "21"
         ],
         "yaxis": "y"
        },
        {
         "hovertemplate": "Likes=%{y}<br>Comment Length=%{x}<extra></extra>",
         "legendgroup": "2023-03-05T10:53:41Z",
         "marker": {
          "color": "#FECB52",
          "symbol": "circle"
         },
         "mode": "markers",
         "name": "2023-03-05T10:53:41Z",
         "showlegend": true,
         "type": "scattergl",
         "x": {
          "bdata": "AQ==",
          "dtype": "i1"
         },
         "xaxis": "x",
         "y": [
          "2023-03-05T10:53:41Z"
         ],
         "yaxis": "y"
        },
        {
         "hovertemplate": "Likes=%{y}<br>Comment Length=%{x}<extra></extra>",
         "legendgroup": "6533",
         "marker": {
          "color": "#636efa",
          "symbol": "circle"
         },
         "mode": "markers",
         "name": "6533",
         "showlegend": true,
         "type": "scattergl",
         "x": {
          "bdata": "kwA=",
          "dtype": "i2"
         },
         "xaxis": "x",
         "y": [
          "6533"
         ],
         "yaxis": "y"
        },
        {
         "hovertemplate": "Likes=%{y}<br>Comment Length=%{x}<extra></extra>",
         "legendgroup": "120",
         "marker": {
          "color": "#EF553B",
          "symbol": "circle"
         },
         "mode": "markers",
         "name": "120",
         "showlegend": true,
         "type": "scattergl",
         "x": {
          "bdata": "fg==",
          "dtype": "i1"
         },
         "xaxis": "x",
         "y": [
          "120"
         ],
         "yaxis": "y"
        },
        {
         "hovertemplate": "Likes=%{y}<br>Comment Length=%{x}<extra></extra>",
         "legendgroup": "28",
         "marker": {
          "color": "#00cc96",
          "symbol": "circle"
         },
         "mode": "markers",
         "name": "28",
         "showlegend": true,
         "type": "scattergl",
         "x": {
          "bdata": "dQ==",
          "dtype": "i1"
         },
         "xaxis": "x",
         "y": [
          "28"
         ],
         "yaxis": "y"
        },
        {
         "hovertemplate": "Likes=%{y}<br>Comment Length=%{x}<extra></extra>",
         "legendgroup": "19",
         "marker": {
          "color": "#ab63fa",
          "symbol": "circle"
         },
         "mode": "markers",
         "name": "19",
         "showlegend": true,
         "type": "scattergl",
         "x": {
          "bdata": "fiQ=",
          "dtype": "i1"
         },
         "xaxis": "x",
         "y": [
          "19",
          "19"
         ],
         "yaxis": "y"
        },
        {
         "hovertemplate": "Likes=%{y}<br>Comment Length=%{x}<extra></extra>",
         "legendgroup": "15",
         "marker": {
          "color": "#FFA15A",
          "symbol": "circle"
         },
         "mode": "markers",
         "name": "15",
         "showlegend": true,
         "type": "scattergl",
         "x": {
          "bdata": "MTE=",
          "dtype": "i1"
         },
         "xaxis": "x",
         "y": [
          "15",
          "15"
         ],
         "yaxis": "y"
        },
        {
         "hovertemplate": "Likes=%{y}<br>Comment Length=%{x}<extra></extra>",
         "legendgroup": "2023-02-18T07:28:56Z",
         "marker": {
          "color": "#19d3f3",
          "symbol": "circle"
         },
         "mode": "markers",
         "name": "2023-02-18T07:28:56Z",
         "showlegend": true,
         "type": "scattergl",
         "x": {
          "bdata": "Ag==",
          "dtype": "i1"
         },
         "xaxis": "x",
         "y": [
          "2023-02-18T07:28:56Z"
         ],
         "yaxis": "y"
        },
        {
         "hovertemplate": "Likes=%{y}<br>Comment Length=%{x}<extra></extra>",
         "legendgroup": "83",
         "marker": {
          "color": "#FF6692",
          "symbol": "circle"
         },
         "mode": "markers",
         "name": "83",
         "showlegend": true,
         "type": "scattergl",
         "x": {
          "bdata": "Xw==",
          "dtype": "i1"
         },
         "xaxis": "x",
         "y": [
          "83"
         ],
         "yaxis": "y"
        },
        {
         "hovertemplate": "Likes=%{y}<br>Comment Length=%{x}<extra></extra>",
         "legendgroup": "453",
         "marker": {
          "color": "#B6E880",
          "symbol": "circle"
         },
         "mode": "markers",
         "name": "453",
         "showlegend": true,
         "type": "scattergl",
         "x": {
          "bdata": "3AA=",
          "dtype": "i2"
         },
         "xaxis": "x",
         "y": [
          "453"
         ],
         "yaxis": "y"
        },
        {
         "hovertemplate": "Likes=%{y}<br>Comment Length=%{x}<extra></extra>",
         "legendgroup": "33",
         "marker": {
          "color": "#FF97FF",
          "symbol": "circle"
         },
         "mode": "markers",
         "name": "33",
         "showlegend": true,
         "type": "scattergl",
         "x": {
          "bdata": "PW4=",
          "dtype": "i1"
         },
         "xaxis": "x",
         "y": [
          "33",
          "33"
         ],
         "yaxis": "y"
        },
        {
         "hovertemplate": "Likes=%{y}<br>Comment Length=%{x}<extra></extra>",
         "legendgroup": "2861",
         "marker": {
          "color": "#FECB52",
          "symbol": "circle"
         },
         "mode": "markers",
         "name": "2861",
         "showlegend": true,
         "type": "scattergl",
         "x": {
          "bdata": "Rw==",
          "dtype": "i1"
         },
         "xaxis": "x",
         "y": [
          "2861"
         ],
         "yaxis": "y"
        },
        {
         "hovertemplate": "Likes=%{y}<br>Comment Length=%{x}<extra></extra>",
         "legendgroup": "23",
         "marker": {
          "color": "#636efa",
          "symbol": "circle"
         },
         "mode": "markers",
         "name": "23",
         "showlegend": true,
         "type": "scattergl",
         "x": {
          "bdata": "Yy8=",
          "dtype": "i1"
         },
         "xaxis": "x",
         "y": [
          "23",
          "23"
         ],
         "yaxis": "y"
        },
        {
         "hovertemplate": "Likes=%{y}<br>Comment Length=%{x}<extra></extra>",
         "legendgroup": "17",
         "marker": {
          "color": "#EF553B",
          "symbol": "circle"
         },
         "mode": "markers",
         "name": "17",
         "showlegend": true,
         "type": "scattergl",
         "x": {
          "bdata": "HDpa",
          "dtype": "i1"
         },
         "xaxis": "x",
         "y": [
          "17",
          "17",
          "17"
         ],
         "yaxis": "y"
        },
        {
         "hovertemplate": "Likes=%{y}<br>Comment Length=%{x}<extra></extra>",
         "legendgroup": "527",
         "marker": {
          "color": "#00cc96",
          "symbol": "circle"
         },
         "mode": "markers",
         "name": "527",
         "showlegend": true,
         "type": "scattergl",
         "x": {
          "bdata": "Wg==",
          "dtype": "i1"
         },
         "xaxis": "x",
         "y": [
          "527"
         ],
         "yaxis": "y"
        },
        {
         "hovertemplate": "Likes=%{y}<br>Comment Length=%{x}<extra></extra>",
         "legendgroup": "877",
         "marker": {
          "color": "#ab63fa",
          "symbol": "circle"
         },
         "mode": "markers",
         "name": "877",
         "showlegend": true,
         "type": "scattergl",
         "x": {
          "bdata": "iQA=",
          "dtype": "i2"
         },
         "xaxis": "x",
         "y": [
          "877"
         ],
         "yaxis": "y"
        },
        {
         "hovertemplate": "Likes=%{y}<br>Comment Length=%{x}<extra></extra>",
         "legendgroup": "374",
         "marker": {
          "color": "#FFA15A",
          "symbol": "circle"
         },
         "mode": "markers",
         "name": "374",
         "showlegend": true,
         "type": "scattergl",
         "x": {
          "bdata": "Tg==",
          "dtype": "i1"
         },
         "xaxis": "x",
         "y": [
          "374"
         ],
         "yaxis": "y"
        },
        {
         "hovertemplate": "Likes=%{y}<br>Comment Length=%{x}<extra></extra>",
         "legendgroup": "2023-02-11T01:05:30Z",
         "marker": {
          "color": "#19d3f3",
          "symbol": "circle"
         },
         "mode": "markers",
         "name": "2023-02-11T01:05:30Z",
         "showlegend": true,
         "type": "scattergl",
         "x": {
          "bdata": "BQ==",
          "dtype": "i1"
         },
         "xaxis": "x",
         "y": [
          "2023-02-11T01:05:30Z"
         ],
         "yaxis": "y"
        },
        {
         "hovertemplate": "Likes=%{y}<br>Comment Length=%{x}<extra></extra>",
         "legendgroup": "544",
         "marker": {
          "color": "#FF6692",
          "symbol": "circle"
         },
         "mode": "markers",
         "name": "544",
         "showlegend": true,
         "type": "scattergl",
         "x": {
          "bdata": "Sw==",
          "dtype": "i1"
         },
         "xaxis": "x",
         "y": [
          "544"
         ],
         "yaxis": "y"
        },
        {
         "hovertemplate": "Likes=%{y}<br>Comment Length=%{x}<extra></extra>",
         "legendgroup": "25",
         "marker": {
          "color": "#B6E880",
          "symbol": "circle"
         },
         "mode": "markers",
         "name": "25",
         "showlegend": true,
         "type": "scattergl",
         "x": {
          "bdata": "Pg==",
          "dtype": "i1"
         },
         "xaxis": "x",
         "y": [
          "25"
         ],
         "yaxis": "y"
        },
        {
         "hovertemplate": "Likes=%{y}<br>Comment Length=%{x}<extra></extra>",
         "legendgroup": "122",
         "marker": {
          "color": "#FF97FF",
          "symbol": "circle"
         },
         "mode": "markers",
         "name": "122",
         "showlegend": true,
         "type": "scattergl",
         "x": {
          "bdata": "TA==",
          "dtype": "i1"
         },
         "xaxis": "x",
         "y": [
          "122"
         ],
         "yaxis": "y"
        },
        {
         "hovertemplate": "Likes=%{y}<br>Comment Length=%{x}<extra></extra>",
         "legendgroup": "37",
         "marker": {
          "color": "#FECB52",
          "symbol": "circle"
         },
         "mode": "markers",
         "name": "37",
         "showlegend": true,
         "type": "scattergl",
         "x": {
          "bdata": "Nw==",
          "dtype": "i1"
         },
         "xaxis": "x",
         "y": [
          "37"
         ],
         "yaxis": "y"
        },
        {
         "hovertemplate": "Likes=%{y}<br>Comment Length=%{x}<extra></extra>",
         "legendgroup": "54",
         "marker": {
          "color": "#636efa",
          "symbol": "circle"
         },
         "mode": "markers",
         "name": "54",
         "showlegend": true,
         "type": "scattergl",
         "x": {
          "bdata": "mQA=",
          "dtype": "i2"
         },
         "xaxis": "x",
         "y": [
          "54"
         ],
         "yaxis": "y"
        },
        {
         "hovertemplate": "Likes=%{y}<br>Comment Length=%{x}<extra></extra>",
         "legendgroup": "478",
         "marker": {
          "color": "#EF553B",
          "symbol": "circle"
         },
         "mode": "markers",
         "name": "478",
         "showlegend": true,
         "type": "scattergl",
         "x": {
          "bdata": "kwA=",
          "dtype": "i2"
         },
         "xaxis": "x",
         "y": [
          "478"
         ],
         "yaxis": "y"
        },
        {
         "hovertemplate": "Likes=%{y}<br>Comment Length=%{x}<extra></extra>",
         "legendgroup": "11",
         "marker": {
          "color": "#00cc96",
          "symbol": "circle"
         },
         "mode": "markers",
         "name": "11",
         "showlegend": true,
         "type": "scattergl",
         "x": {
          "bdata": "ZQ==",
          "dtype": "i1"
         },
         "xaxis": "x",
         "y": [
          "11"
         ],
         "yaxis": "y"
        },
        {
         "hovertemplate": "Likes=%{y}<br>Comment Length=%{x}<extra></extra>",
         "legendgroup": "124",
         "marker": {
          "color": "#ab63fa",
          "symbol": "circle"
         },
         "mode": "markers",
         "name": "124",
         "showlegend": true,
         "type": "scattergl",
         "x": {
          "bdata": "HAE=",
          "dtype": "i2"
         },
         "xaxis": "x",
         "y": [
          "124"
         ],
         "yaxis": "y"
        },
        {
         "hovertemplate": "Likes=%{y}<br>Comment Length=%{x}<extra></extra>",
         "legendgroup": "3323",
         "marker": {
          "color": "#FFA15A",
          "symbol": "circle"
         },
         "mode": "markers",
         "name": "3323",
         "showlegend": true,
         "type": "scattergl",
         "x": {
          "bdata": "Xg==",
          "dtype": "i1"
         },
         "xaxis": "x",
         "y": [
          "3323"
         ],
         "yaxis": "y"
        },
        {
         "hovertemplate": "Likes=%{y}<br>Comment Length=%{x}<extra></extra>",
         "legendgroup": "349",
         "marker": {
          "color": "#19d3f3",
          "symbol": "circle"
         },
         "mode": "markers",
         "name": "349",
         "showlegend": true,
         "type": "scattergl",
         "x": {
          "bdata": "TgI=",
          "dtype": "i2"
         },
         "xaxis": "x",
         "y": [
          "349"
         ],
         "yaxis": "y"
        },
        {
         "hovertemplate": "Likes=%{y}<br>Comment Length=%{x}<extra></extra>",
         "legendgroup": "32",
         "marker": {
          "color": "#FF6692",
          "symbol": "circle"
         },
         "mode": "markers",
         "name": "32",
         "showlegend": true,
         "type": "scattergl",
         "x": {
          "bdata": "Qw==",
          "dtype": "i1"
         },
         "xaxis": "x",
         "y": [
          "32"
         ],
         "yaxis": "y"
        },
        {
         "hovertemplate": "Likes=%{y}<br>Comment Length=%{x}<extra></extra>",
         "legendgroup": "174",
         "marker": {
          "color": "#B6E880",
          "symbol": "circle"
         },
         "mode": "markers",
         "name": "174",
         "showlegend": true,
         "type": "scattergl",
         "x": {
          "bdata": "GQ==",
          "dtype": "i1"
         },
         "xaxis": "x",
         "y": [
          "174"
         ],
         "yaxis": "y"
        },
        {
         "hovertemplate": "Likes=%{y}<br>Comment Length=%{x}<extra></extra>",
         "legendgroup": "485",
         "marker": {
          "color": "#FF97FF",
          "symbol": "circle"
         },
         "mode": "markers",
         "name": "485",
         "showlegend": true,
         "type": "scattergl",
         "x": {
          "bdata": "YA==",
          "dtype": "i1"
         },
         "xaxis": "x",
         "y": [
          "485"
         ],
         "yaxis": "y"
        },
        {
         "hovertemplate": "Likes=%{y}<br>Comment Length=%{x}<extra></extra>",
         "legendgroup": "8",
         "marker": {
          "color": "#FECB52",
          "symbol": "circle"
         },
         "mode": "markers",
         "name": "8",
         "showlegend": true,
         "type": "scattergl",
         "x": {
          "bdata": "GQ==",
          "dtype": "i1"
         },
         "xaxis": "x",
         "y": [
          "8"
         ],
         "yaxis": "y"
        },
        {
         "hovertemplate": "Likes=%{y}<br>Comment Length=%{x}<extra></extra>",
         "legendgroup": "46",
         "marker": {
          "color": "#636efa",
          "symbol": "circle"
         },
         "mode": "markers",
         "name": "46",
         "showlegend": true,
         "type": "scattergl",
         "x": {
          "bdata": "Rg==",
          "dtype": "i1"
         },
         "xaxis": "x",
         "y": [
          "46"
         ],
         "yaxis": "y"
        },
        {
         "hovertemplate": "Likes=%{y}<br>Comment Length=%{x}<extra></extra>",
         "legendgroup": "810",
         "marker": {
          "color": "#EF553B",
          "symbol": "circle"
         },
         "mode": "markers",
         "name": "810",
         "showlegend": true,
         "type": "scattergl",
         "x": {
          "bdata": "Kg==",
          "dtype": "i1"
         },
         "xaxis": "x",
         "y": [
          "810"
         ],
         "yaxis": "y"
        },
        {
         "hovertemplate": "Likes=%{y}<br>Comment Length=%{x}<extra></extra>",
         "legendgroup": "2903",
         "marker": {
          "color": "#00cc96",
          "symbol": "circle"
         },
         "mode": "markers",
         "name": "2903",
         "showlegend": true,
         "type": "scattergl",
         "x": {
          "bdata": "Qg==",
          "dtype": "i1"
         },
         "xaxis": "x",
         "y": [
          "2903"
         ],
         "yaxis": "y"
        },
        {
         "hovertemplate": "Likes=%{y}<br>Comment Length=%{x}<extra></extra>",
         "legendgroup": "7541",
         "marker": {
          "color": "#ab63fa",
          "symbol": "circle"
         },
         "mode": "markers",
         "name": "7541",
         "showlegend": true,
         "type": "scattergl",
         "x": {
          "bdata": "OA==",
          "dtype": "i1"
         },
         "xaxis": "x",
         "y": [
          "7541"
         ],
         "yaxis": "y"
        },
        {
         "hovertemplate": "Likes=%{y}<br>Comment Length=%{x}<extra></extra>",
         "legendgroup": "640",
         "marker": {
          "color": "#FFA15A",
          "symbol": "circle"
         },
         "mode": "markers",
         "name": "640",
         "showlegend": true,
         "type": "scattergl",
         "x": {
          "bdata": "Hg==",
          "dtype": "i1"
         },
         "xaxis": "x",
         "y": [
          "640"
         ],
         "yaxis": "y"
        },
        {
         "hovertemplate": "Likes=%{y}<br>Comment Length=%{x}<extra></extra>",
         "legendgroup": "170",
         "marker": {
          "color": "#19d3f3",
          "symbol": "circle"
         },
         "mode": "markers",
         "name": "170",
         "showlegend": true,
         "type": "scattergl",
         "x": {
          "bdata": "RQ==",
          "dtype": "i1"
         },
         "xaxis": "x",
         "y": [
          "170"
         ],
         "yaxis": "y"
        },
        {
         "hovertemplate": "Likes=%{y}<br>Comment Length=%{x}<extra></extra>",
         "legendgroup": "2363",
         "marker": {
          "color": "#FF6692",
          "symbol": "circle"
         },
         "mode": "markers",
         "name": "2363",
         "showlegend": true,
         "type": "scattergl",
         "x": {
          "bdata": "dgE=",
          "dtype": "i2"
         },
         "xaxis": "x",
         "y": [
          "2363"
         ],
         "yaxis": "y"
        },
        {
         "hovertemplate": "Likes=%{y}<br>Comment Length=%{x}<extra></extra>",
         "legendgroup": "22",
         "marker": {
          "color": "#B6E880",
          "symbol": "circle"
         },
         "mode": "markers",
         "name": "22",
         "showlegend": true,
         "type": "scattergl",
         "x": {
          "bdata": "Gg==",
          "dtype": "i1"
         },
         "xaxis": "x",
         "y": [
          "22"
         ],
         "yaxis": "y"
        },
        {
         "hovertemplate": "Likes=%{y}<br>Comment Length=%{x}<extra></extra>",
         "legendgroup": "74",
         "marker": {
          "color": "#FF97FF",
          "symbol": "circle"
         },
         "mode": "markers",
         "name": "74",
         "showlegend": true,
         "type": "scattergl",
         "x": {
          "bdata": "KA==",
          "dtype": "i1"
         },
         "xaxis": "x",
         "y": [
          "74"
         ],
         "yaxis": "y"
        },
        {
         "hovertemplate": "Likes=%{y}<br>Comment Length=%{x}<extra></extra>",
         "legendgroup": "166",
         "marker": {
          "color": "#FECB52",
          "symbol": "circle"
         },
         "mode": "markers",
         "name": "166",
         "showlegend": true,
         "type": "scattergl",
         "x": {
          "bdata": "cQ==",
          "dtype": "i1"
         },
         "xaxis": "x",
         "y": [
          "166"
         ],
         "yaxis": "y"
        }
       ],
       "layout": {
        "legend": {
         "title": {
          "text": "Likes"
         },
         "tracegroupgap": 0
        },
        "template": {
         "data": {
          "bar": [
           {
            "error_x": {
             "color": "#2a3f5f"
            },
            "error_y": {
             "color": "#2a3f5f"
            },
            "marker": {
             "line": {
              "color": "#E5ECF6",
              "width": 0.5
             },
             "pattern": {
              "fillmode": "overlay",
              "size": 10,
              "solidity": 0.2
             }
            },
            "type": "bar"
           }
          ],
          "barpolar": [
           {
            "marker": {
             "line": {
              "color": "#E5ECF6",
              "width": 0.5
             },
             "pattern": {
              "fillmode": "overlay",
              "size": 10,
              "solidity": 0.2
             }
            },
            "type": "barpolar"
           }
          ],
          "carpet": [
           {
            "aaxis": {
             "endlinecolor": "#2a3f5f",
             "gridcolor": "white",
             "linecolor": "white",
             "minorgridcolor": "white",
             "startlinecolor": "#2a3f5f"
            },
            "baxis": {
             "endlinecolor": "#2a3f5f",
             "gridcolor": "white",
             "linecolor": "white",
             "minorgridcolor": "white",
             "startlinecolor": "#2a3f5f"
            },
            "type": "carpet"
           }
          ],
          "choropleth": [
           {
            "colorbar": {
             "outlinewidth": 0,
             "ticks": ""
            },
            "type": "choropleth"
           }
          ],
          "contour": [
           {
            "colorbar": {
             "outlinewidth": 0,
             "ticks": ""
            },
            "colorscale": [
             [
              0,
              "#0d0887"
             ],
             [
              0.1111111111111111,
              "#46039f"
             ],
             [
              0.2222222222222222,
              "#7201a8"
             ],
             [
              0.3333333333333333,
              "#9c179e"
             ],
             [
              0.4444444444444444,
              "#bd3786"
             ],
             [
              0.5555555555555556,
              "#d8576b"
             ],
             [
              0.6666666666666666,
              "#ed7953"
             ],
             [
              0.7777777777777778,
              "#fb9f3a"
             ],
             [
              0.8888888888888888,
              "#fdca26"
             ],
             [
              1,
              "#f0f921"
             ]
            ],
            "type": "contour"
           }
          ],
          "contourcarpet": [
           {
            "colorbar": {
             "outlinewidth": 0,
             "ticks": ""
            },
            "type": "contourcarpet"
           }
          ],
          "heatmap": [
           {
            "colorbar": {
             "outlinewidth": 0,
             "ticks": ""
            },
            "colorscale": [
             [
              0,
              "#0d0887"
             ],
             [
              0.1111111111111111,
              "#46039f"
             ],
             [
              0.2222222222222222,
              "#7201a8"
             ],
             [
              0.3333333333333333,
              "#9c179e"
             ],
             [
              0.4444444444444444,
              "#bd3786"
             ],
             [
              0.5555555555555556,
              "#d8576b"
             ],
             [
              0.6666666666666666,
              "#ed7953"
             ],
             [
              0.7777777777777778,
              "#fb9f3a"
             ],
             [
              0.8888888888888888,
              "#fdca26"
             ],
             [
              1,
              "#f0f921"
             ]
            ],
            "type": "heatmap"
           }
          ],
          "histogram": [
           {
            "marker": {
             "pattern": {
              "fillmode": "overlay",
              "size": 10,
              "solidity": 0.2
             }
            },
            "type": "histogram"
           }
          ],
          "histogram2d": [
           {
            "colorbar": {
             "outlinewidth": 0,
             "ticks": ""
            },
            "colorscale": [
             [
              0,
              "#0d0887"
             ],
             [
              0.1111111111111111,
              "#46039f"
             ],
             [
              0.2222222222222222,
              "#7201a8"
             ],
             [
              0.3333333333333333,
              "#9c179e"
             ],
             [
              0.4444444444444444,
              "#bd3786"
             ],
             [
              0.5555555555555556,
              "#d8576b"
             ],
             [
              0.6666666666666666,
              "#ed7953"
             ],
             [
              0.7777777777777778,
              "#fb9f3a"
             ],
             [
              0.8888888888888888,
              "#fdca26"
             ],
             [
              1,
              "#f0f921"
             ]
            ],
            "type": "histogram2d"
           }
          ],
          "histogram2dcontour": [
           {
            "colorbar": {
             "outlinewidth": 0,
             "ticks": ""
            },
            "colorscale": [
             [
              0,
              "#0d0887"
             ],
             [
              0.1111111111111111,
              "#46039f"
             ],
             [
              0.2222222222222222,
              "#7201a8"
             ],
             [
              0.3333333333333333,
              "#9c179e"
             ],
             [
              0.4444444444444444,
              "#bd3786"
             ],
             [
              0.5555555555555556,
              "#d8576b"
             ],
             [
              0.6666666666666666,
              "#ed7953"
             ],
             [
              0.7777777777777778,
              "#fb9f3a"
             ],
             [
              0.8888888888888888,
              "#fdca26"
             ],
             [
              1,
              "#f0f921"
             ]
            ],
            "type": "histogram2dcontour"
           }
          ],
          "mesh3d": [
           {
            "colorbar": {
             "outlinewidth": 0,
             "ticks": ""
            },
            "type": "mesh3d"
           }
          ],
          "parcoords": [
           {
            "line": {
             "colorbar": {
              "outlinewidth": 0,
              "ticks": ""
             }
            },
            "type": "parcoords"
           }
          ],
          "pie": [
           {
            "automargin": true,
            "type": "pie"
           }
          ],
          "scatter": [
           {
            "fillpattern": {
             "fillmode": "overlay",
             "size": 10,
             "solidity": 0.2
            },
            "type": "scatter"
           }
          ],
          "scatter3d": [
           {
            "line": {
             "colorbar": {
              "outlinewidth": 0,
              "ticks": ""
             }
            },
            "marker": {
             "colorbar": {
              "outlinewidth": 0,
              "ticks": ""
             }
            },
            "type": "scatter3d"
           }
          ],
          "scattercarpet": [
           {
            "marker": {
             "colorbar": {
              "outlinewidth": 0,
              "ticks": ""
             }
            },
            "type": "scattercarpet"
           }
          ],
          "scattergeo": [
           {
            "marker": {
             "colorbar": {
              "outlinewidth": 0,
              "ticks": ""
             }
            },
            "type": "scattergeo"
           }
          ],
          "scattergl": [
           {
            "marker": {
             "colorbar": {
              "outlinewidth": 0,
              "ticks": ""
             }
            },
            "type": "scattergl"
           }
          ],
          "scattermap": [
           {
            "marker": {
             "colorbar": {
              "outlinewidth": 0,
              "ticks": ""
             }
            },
            "type": "scattermap"
           }
          ],
          "scattermapbox": [
           {
            "marker": {
             "colorbar": {
              "outlinewidth": 0,
              "ticks": ""
             }
            },
            "type": "scattermapbox"
           }
          ],
          "scatterpolar": [
           {
            "marker": {
             "colorbar": {
              "outlinewidth": 0,
              "ticks": ""
             }
            },
            "type": "scatterpolar"
           }
          ],
          "scatterpolargl": [
           {
            "marker": {
             "colorbar": {
              "outlinewidth": 0,
              "ticks": ""
             }
            },
            "type": "scatterpolargl"
           }
          ],
          "scatterternary": [
           {
            "marker": {
             "colorbar": {
              "outlinewidth": 0,
              "ticks": ""
             }
            },
            "type": "scatterternary"
           }
          ],
          "surface": [
           {
            "colorbar": {
             "outlinewidth": 0,
             "ticks": ""
            },
            "colorscale": [
             [
              0,
              "#0d0887"
             ],
             [
              0.1111111111111111,
              "#46039f"
             ],
             [
              0.2222222222222222,
              "#7201a8"
             ],
             [
              0.3333333333333333,
              "#9c179e"
             ],
             [
              0.4444444444444444,
              "#bd3786"
             ],
             [
              0.5555555555555556,
              "#d8576b"
             ],
             [
              0.6666666666666666,
              "#ed7953"
             ],
             [
              0.7777777777777778,
              "#fb9f3a"
             ],
             [
              0.8888888888888888,
              "#fdca26"
             ],
             [
              1,
              "#f0f921"
             ]
            ],
            "type": "surface"
           }
          ],
          "table": [
           {
            "cells": {
             "fill": {
              "color": "#EBF0F8"
             },
             "line": {
              "color": "white"
             }
            },
            "header": {
             "fill": {
              "color": "#C8D4E3"
             },
             "line": {
              "color": "white"
             }
            },
            "type": "table"
           }
          ]
         },
         "layout": {
          "annotationdefaults": {
           "arrowcolor": "#2a3f5f",
           "arrowhead": 0,
           "arrowwidth": 1
          },
          "autotypenumbers": "strict",
          "coloraxis": {
           "colorbar": {
            "outlinewidth": 0,
            "ticks": ""
           }
          },
          "colorscale": {
           "diverging": [
            [
             0,
             "#8e0152"
            ],
            [
             0.1,
             "#c51b7d"
            ],
            [
             0.2,
             "#de77ae"
            ],
            [
             0.3,
             "#f1b6da"
            ],
            [
             0.4,
             "#fde0ef"
            ],
            [
             0.5,
             "#f7f7f7"
            ],
            [
             0.6,
             "#e6f5d0"
            ],
            [
             0.7,
             "#b8e186"
            ],
            [
             0.8,
             "#7fbc41"
            ],
            [
             0.9,
             "#4d9221"
            ],
            [
             1,
             "#276419"
            ]
           ],
           "sequential": [
            [
             0,
             "#0d0887"
            ],
            [
             0.1111111111111111,
             "#46039f"
            ],
            [
             0.2222222222222222,
             "#7201a8"
            ],
            [
             0.3333333333333333,
             "#9c179e"
            ],
            [
             0.4444444444444444,
             "#bd3786"
            ],
            [
             0.5555555555555556,
             "#d8576b"
            ],
            [
             0.6666666666666666,
             "#ed7953"
            ],
            [
             0.7777777777777778,
             "#fb9f3a"
            ],
            [
             0.8888888888888888,
             "#fdca26"
            ],
            [
             1,
             "#f0f921"
            ]
           ],
           "sequentialminus": [
            [
             0,
             "#0d0887"
            ],
            [
             0.1111111111111111,
             "#46039f"
            ],
            [
             0.2222222222222222,
             "#7201a8"
            ],
            [
             0.3333333333333333,
             "#9c179e"
            ],
            [
             0.4444444444444444,
             "#bd3786"
            ],
            [
             0.5555555555555556,
             "#d8576b"
            ],
            [
             0.6666666666666666,
             "#ed7953"
            ],
            [
             0.7777777777777778,
             "#fb9f3a"
            ],
            [
             0.8888888888888888,
             "#fdca26"
            ],
            [
             1,
             "#f0f921"
            ]
           ]
          },
          "colorway": [
           "#636efa",
           "#EF553B",
           "#00cc96",
           "#ab63fa",
           "#FFA15A",
           "#19d3f3",
           "#FF6692",
           "#B6E880",
           "#FF97FF",
           "#FECB52"
          ],
          "font": {
           "color": "#2a3f5f"
          },
          "geo": {
           "bgcolor": "white",
           "lakecolor": "white",
           "landcolor": "#E5ECF6",
           "showlakes": true,
           "showland": true,
           "subunitcolor": "white"
          },
          "hoverlabel": {
           "align": "left"
          },
          "hovermode": "closest",
          "mapbox": {
           "style": "light"
          },
          "paper_bgcolor": "white",
          "plot_bgcolor": "#E5ECF6",
          "polar": {
           "angularaxis": {
            "gridcolor": "white",
            "linecolor": "white",
            "ticks": ""
           },
           "bgcolor": "#E5ECF6",
           "radialaxis": {
            "gridcolor": "white",
            "linecolor": "white",
            "ticks": ""
           }
          },
          "scene": {
           "xaxis": {
            "backgroundcolor": "#E5ECF6",
            "gridcolor": "white",
            "gridwidth": 2,
            "linecolor": "white",
            "showbackground": true,
            "ticks": "",
            "zerolinecolor": "white"
           },
           "yaxis": {
            "backgroundcolor": "#E5ECF6",
            "gridcolor": "white",
            "gridwidth": 2,
            "linecolor": "white",
            "showbackground": true,
            "ticks": "",
            "zerolinecolor": "white"
           },
           "zaxis": {
            "backgroundcolor": "#E5ECF6",
            "gridcolor": "white",
            "gridwidth": 2,
            "linecolor": "white",
            "showbackground": true,
            "ticks": "",
            "zerolinecolor": "white"
           }
          },
          "shapedefaults": {
           "line": {
            "color": "#2a3f5f"
           }
          },
          "ternary": {
           "aaxis": {
            "gridcolor": "white",
            "linecolor": "white",
            "ticks": ""
           },
           "baxis": {
            "gridcolor": "white",
            "linecolor": "white",
            "ticks": ""
           },
           "bgcolor": "#E5ECF6",
           "caxis": {
            "gridcolor": "white",
            "linecolor": "white",
            "ticks": ""
           }
          },
          "title": {
           "x": 0.05
          },
          "xaxis": {
           "automargin": true,
           "gridcolor": "white",
           "linecolor": "white",
           "ticks": "",
           "title": {
            "standoff": 15
           },
           "zerolinecolor": "white",
           "zerolinewidth": 2
          },
          "yaxis": {
           "automargin": true,
           "gridcolor": "white",
           "linecolor": "white",
           "ticks": "",
           "title": {
            "standoff": 15
           },
           "zerolinecolor": "white",
           "zerolinewidth": 2
          }
         }
        },
        "title": {
         "text": "Likes vs. Comment Length"
        },
        "xaxis": {
         "anchor": "y",
         "domain": [
          0,
          1
         ],
         "title": {
          "text": "Comment Length"
         }
        },
        "yaxis": {
         "anchor": "x",
         "categoryarray": [
          "166",
          "74",
          "22",
          "2363",
          "170",
          "640",
          "7541",
          "2903",
          "810",
          "46",
          "8",
          "485",
          "174",
          "32",
          "349",
          "3323",
          "124",
          "11",
          "478",
          "54",
          "37",
          "122",
          "25",
          "544",
          "2023-02-11T01:05:30Z",
          "374",
          "877",
          "527",
          "17",
          "23",
          "2861",
          "33",
          "453",
          "83",
          "2023-02-18T07:28:56Z",
          "15",
          "19",
          "28",
          "120",
          "6533",
          "2023-03-05T10:53:41Z",
          "21",
          "9",
          "2023-03-19T20:04:26Z",
          "263",
          "1343",
          "2023-03-31T21:55:12Z",
          "47",
          "69",
          "27",
          "2023-05-07T18:09:24Z",
          "2023-05-15T13:03:52Z",
          "2023-05-19T06:22:31Z",
          "8563",
          "2023-05-23T23:28:15Z",
          " Toretto. Get your ass out of the car now.\\\"",
          "251",
          "2023-05-27T01:52:03Z",
          "60",
          "436",
          "99",
          "525",
          "20",
          "2023-06-12T22:32:41Z",
          "14",
          "49",
          "972",
          "327",
          "18",
          " work together he says\\\" ",
          "257",
          "53",
          "38",
          "2023-09-16T07:57:06Z",
          "36",
          "81",
          "61",
          "88",
          "1512",
          "536",
          "40",
          "2024-09-24T14:57:12Z",
          "7",
          "139",
          "12",
          "41",
          "2024-11-05T11:43:04Z",
          "13",
          "26",
          "10",
          "6",
          "123",
          "4",
          "2",
          "5",
          "1",
          "3",
          "2025-02-02T17:59:28Z",
          null,
          "0"
         ],
         "categoryorder": "array",
         "domain": [
          0,
          1
         ],
         "title": {
          "text": "Likes"
         }
        }
       }
      }
     },
     "metadata": {},
     "output_type": "display_data"
    },
    {
     "data": {
      "application/vnd.plotly.v1+json": {
       "config": {
        "plotlyServerURL": "https://plot.ly"
       },
       "data": [
        {
         "hovertemplate": "Date=%{x}<br>Number of Comments=%{y}<extra></extra>",
         "legendgroup": "",
         "line": {
          "color": "#636efa",
          "dash": "solid"
         },
         "marker": {
          "symbol": "circle"
         },
         "mode": "lines",
         "name": "",
         "orientation": "v",
         "showlegend": false,
         "type": "scatter",
         "x": [
          "2023-02-04",
          "2023-02-05",
          "2023-02-06",
          "2023-02-07",
          "2023-02-08",
          "2023-02-09",
          "2023-02-10",
          "2023-02-11",
          "2023-02-12",
          "2023-02-13",
          "2023-02-14",
          "2023-02-15",
          "2023-02-16",
          "2023-02-17",
          "2023-02-18",
          "2023-02-19",
          "2023-02-20",
          "2023-02-21",
          "2023-02-22",
          "2023-02-23",
          "2023-02-24",
          "2023-02-25",
          "2023-02-26",
          "2023-02-27",
          "2023-02-28",
          "2023-03-01",
          "2023-03-02",
          "2023-03-03",
          "2023-03-04",
          "2023-03-05",
          "2023-03-06",
          "2023-03-07",
          "2023-03-08",
          "2023-03-09",
          "2023-03-10",
          "2023-03-11",
          "2023-03-12",
          "2023-03-13",
          "2023-03-14",
          "2023-03-15",
          "2023-03-16",
          "2023-03-17",
          "2023-03-18",
          "2023-03-19",
          "2023-03-20",
          "2023-03-21",
          "2023-03-22",
          "2023-03-23",
          "2023-03-24",
          "2023-03-25",
          "2023-03-26",
          "2023-03-27",
          "2023-03-28",
          "2023-03-29",
          "2023-03-30",
          "2023-03-31",
          "2023-04-01",
          "2023-04-02",
          "2023-04-03",
          "2023-04-05",
          "2023-04-06",
          "2023-04-07",
          "2023-04-08",
          "2023-04-09",
          "2023-04-10",
          "2023-04-13",
          "2023-04-14",
          "2023-04-16",
          "2023-04-18",
          "2023-04-19",
          "2023-04-20",
          "2023-04-21",
          "2023-04-22",
          "2023-04-24",
          "2023-04-25",
          "2023-04-27",
          "2023-04-28",
          "2023-04-29",
          "2023-04-30",
          "2023-05-01",
          "2023-05-02",
          "2023-05-03",
          "2023-05-04",
          "2023-05-05",
          "2023-05-06",
          "2023-05-07",
          "2023-05-08",
          "2023-05-09",
          "2023-05-10",
          "2023-05-11",
          "2023-05-12",
          "2023-05-13",
          "2023-05-14",
          "2023-05-15",
          "2023-05-16",
          "2023-05-17",
          "2023-05-18",
          "2023-05-19",
          "2023-05-20",
          "2023-05-21",
          "2023-05-22",
          "2023-05-23",
          "2023-05-24",
          "2023-05-25",
          "2023-05-26",
          "2023-05-27",
          "2023-05-28",
          "2023-05-29",
          "2023-05-30",
          "2023-05-31",
          "2023-06-01",
          "2023-06-02",
          "2023-06-03",
          "2023-06-04",
          "2023-06-05",
          "2023-06-06",
          "2023-06-07",
          "2023-06-08",
          "2023-06-09",
          "2023-06-10",
          "2023-06-12",
          "2023-06-14",
          "2023-06-15",
          "2023-06-16",
          "2023-06-17",
          "2023-06-18",
          "2023-06-20",
          "2023-06-21",
          "2023-06-22",
          "2023-06-23",
          "2023-06-24",
          "2023-06-25",
          "2023-06-26",
          "2023-06-30",
          "2023-07-02",
          "2023-07-03",
          "2023-07-04",
          "2023-07-05",
          "2023-07-06",
          "2023-07-07",
          "2023-07-13",
          "2023-07-17",
          "2023-07-19",
          "2023-07-20",
          "2023-07-22",
          "2023-07-26",
          "2023-07-27",
          "2023-07-29",
          "2023-07-30",
          "2023-07-31",
          "2023-08-04",
          "2023-08-05",
          "2023-08-09",
          "2023-08-10",
          "2023-08-11",
          "2023-08-12",
          "2023-08-13",
          "2023-08-14",
          "2023-08-15",
          "2023-08-16",
          "2023-08-17",
          "2023-08-18",
          "2023-08-20",
          "2023-08-21",
          "2023-08-22",
          "2023-08-23",
          "2023-08-24",
          "2023-08-25",
          "2023-08-26",
          "2023-08-27",
          "2023-08-29",
          "2023-08-31",
          "2023-09-01",
          "2023-09-02",
          "2023-09-03",
          "2023-09-07",
          "2023-09-08",
          "2023-09-09",
          "2023-09-10",
          "2023-09-11",
          "2023-09-12",
          "2023-09-13",
          "2023-09-14",
          "2023-09-15",
          "2023-09-16",
          "2023-09-17",
          "2023-09-18",
          "2023-09-19",
          "2023-09-20",
          "2023-09-21",
          "2023-09-22",
          "2023-09-23",
          "2023-09-24",
          "2023-09-25",
          "2023-09-26",
          "2023-09-27",
          "2023-09-28",
          "2023-10-01",
          "2023-10-02",
          "2023-10-04",
          "2023-10-05",
          "2023-10-08",
          "2023-10-16",
          "2023-10-17",
          "2023-10-18",
          "2023-10-21",
          "2023-10-22",
          "2023-10-23",
          "2023-10-24",
          "2023-10-25",
          "2023-10-26",
          "2023-10-27",
          "2023-10-30",
          "2023-11-02",
          "2023-11-03",
          "2023-11-05",
          "2023-11-06",
          "2023-11-08",
          "2023-11-09",
          "2023-11-12",
          "2023-11-14",
          "2023-11-15",
          "2023-11-17",
          "2023-11-25",
          "2023-11-26",
          "2023-11-29",
          "2023-11-30",
          "2023-12-01",
          "2023-12-04",
          "2023-12-06",
          "2023-12-07",
          "2023-12-08",
          "2023-12-09",
          "2023-12-10",
          "2023-12-12",
          "2023-12-13",
          "2023-12-15",
          "2023-12-16",
          "2023-12-17",
          "2023-12-18",
          "2023-12-19",
          "2023-12-20",
          "2023-12-21",
          "2023-12-22",
          "2023-12-23",
          "2023-12-24",
          "2023-12-25",
          "2023-12-26",
          "2023-12-27",
          "2023-12-29",
          "2023-12-31",
          "2024-01-01",
          "2024-01-02",
          "2024-01-03",
          "2024-01-04",
          "2024-01-05",
          "2024-01-06",
          "2024-01-08",
          "2024-01-09",
          "2024-01-10",
          "2024-01-11",
          "2024-01-12",
          "2024-01-15",
          "2024-01-17",
          "2024-01-18",
          "2024-01-19",
          "2024-01-20",
          "2024-01-21",
          "2024-01-23",
          "2024-01-24",
          "2024-01-27",
          "2024-01-28",
          "2024-01-29",
          "2024-02-01",
          "2024-02-03",
          "2024-02-04",
          "2024-02-07",
          "2024-02-08",
          "2024-02-09",
          "2024-02-13",
          "2024-02-14",
          "2024-02-15",
          "2024-02-16",
          "2024-02-17",
          "2024-02-18",
          "2024-02-19",
          "2024-02-20",
          "2024-02-21",
          "2024-02-22",
          "2024-02-23",
          "2024-02-24",
          "2024-02-25",
          "2024-02-28",
          "2024-02-29",
          "2024-03-01",
          "2024-03-02",
          "2024-03-03",
          "2024-03-04",
          "2024-03-07",
          "2024-03-10",
          "2024-03-11",
          "2024-03-12",
          "2024-03-13",
          "2024-03-14",
          "2024-03-15",
          "2024-03-16",
          "2024-03-17",
          "2024-03-18",
          "2024-03-19",
          "2024-03-20",
          "2024-03-21",
          "2024-03-22",
          "2024-03-23",
          "2024-03-24",
          "2024-03-25",
          "2024-03-26",
          "2024-03-27",
          "2024-03-28",
          "2024-03-29",
          "2024-03-30",
          "2024-04-01",
          "2024-04-03",
          "2024-04-04",
          "2024-04-05",
          "2024-04-06",
          "2024-04-08",
          "2024-04-09",
          "2024-04-10",
          "2024-04-12",
          "2024-04-13",
          "2024-04-15",
          "2024-04-16",
          "2024-04-17",
          "2024-04-18",
          "2024-04-19",
          "2024-04-20",
          "2024-04-21",
          "2024-04-22",
          "2024-04-23",
          "2024-04-24",
          "2024-04-25",
          "2024-04-26",
          "2024-04-27",
          "2024-04-28",
          "2024-04-29",
          "2024-05-02",
          "2024-05-03",
          "2024-05-04",
          "2024-05-05",
          "2024-05-06",
          "2024-05-08",
          "2024-05-09",
          "2024-05-10",
          "2024-05-11",
          "2024-05-13",
          "2024-05-14",
          "2024-05-15",
          "2024-05-16",
          "2024-05-17",
          "2024-05-18",
          "2024-05-19",
          "2024-05-20",
          "2024-05-21",
          "2024-05-22",
          "2024-05-23",
          "2024-05-24",
          "2024-05-25",
          "2024-05-26",
          "2024-05-27",
          "2024-05-28",
          "2024-05-29",
          "2024-05-30",
          "2024-05-31",
          "2024-06-02",
          "2024-06-03",
          "2024-06-04",
          "2024-06-05",
          "2024-06-06",
          "2024-06-07",
          "2024-06-08",
          "2024-06-09",
          "2024-06-10",
          "2024-06-11",
          "2024-06-12",
          "2024-06-13",
          "2024-06-14",
          "2024-06-15",
          "2024-06-16",
          "2024-06-17",
          "2024-06-19",
          "2024-06-20",
          "2024-06-22",
          "2024-06-23",
          "2024-06-24",
          "2024-06-27",
          "2024-06-28",
          "2024-06-29",
          "2024-06-30",
          "2024-07-01",
          "2024-07-02",
          "2024-07-03",
          "2024-07-04",
          "2024-07-05",
          "2024-07-06",
          "2024-07-07",
          "2024-07-08",
          "2024-07-09",
          "2024-07-11",
          "2024-07-12",
          "2024-07-13",
          "2024-07-14",
          "2024-07-15",
          "2024-07-17",
          "2024-07-18",
          "2024-07-19",
          "2024-07-20",
          "2024-07-21",
          "2024-07-27",
          "2024-07-28",
          "2024-07-29",
          "2024-07-30",
          "2024-07-31",
          "2024-08-01",
          "2024-08-02",
          "2024-08-04",
          "2024-08-05",
          "2024-08-06",
          "2024-08-07",
          "2024-08-08",
          "2024-08-09",
          "2024-08-10",
          "2024-08-11",
          "2024-08-12",
          "2024-08-13",
          "2024-08-15",
          "2024-08-16",
          "2024-08-17",
          "2024-08-18",
          "2024-08-21",
          "2024-08-22",
          "2024-08-24",
          "2024-08-27",
          "2024-08-28",
          "2024-08-29",
          "2024-08-31",
          "2024-09-02",
          "2024-09-03",
          "2024-09-04",
          "2024-09-06",
          "2024-09-07",
          "2024-09-08",
          "2024-09-09",
          "2024-09-10",
          "2024-09-11",
          "2024-09-12",
          "2024-09-13",
          "2024-09-16",
          "2024-09-18",
          "2024-09-19",
          "2024-09-21",
          "2024-09-22",
          "2024-09-23",
          "2024-09-24",
          "2024-09-25",
          "2024-09-26",
          "2024-09-27",
          "2024-09-28",
          "2024-09-29",
          "2024-09-30",
          "2024-10-01",
          "2024-10-02",
          "2024-10-03",
          "2024-10-04",
          "2024-10-05",
          "2024-10-06",
          "2024-10-07",
          "2024-10-09",
          "2024-10-10",
          "2024-10-11",
          "2024-10-13",
          "2024-10-14",
          "2024-10-15",
          "2024-10-17",
          "2024-10-18",
          "2024-10-19",
          "2024-10-20",
          "2024-10-21",
          "2024-10-22",
          "2024-10-23",
          "2024-10-24",
          "2024-10-27",
          "2024-10-28",
          "2024-10-29",
          "2024-10-31",
          "2024-11-01",
          "2024-11-03",
          "2024-11-05",
          "2024-11-06",
          "2024-11-07",
          "2024-11-08",
          "2024-11-10",
          "2024-11-11",
          "2024-11-12",
          "2024-11-13",
          "2024-11-16",
          "2024-11-17",
          "2024-11-19",
          "2024-11-21",
          "2024-11-22",
          "2024-11-23",
          "2024-11-24",
          "2024-11-25",
          "2024-11-26",
          "2024-11-28",
          "2024-11-29",
          "2024-11-30",
          "2024-12-01",
          "2024-12-02",
          "2024-12-03",
          "2024-12-04",
          "2024-12-05",
          "2024-12-06",
          "2024-12-07",
          "2024-12-08",
          "2024-12-09",
          "2024-12-10",
          "2024-12-11",
          "2024-12-12",
          "2024-12-13",
          "2024-12-14",
          "2024-12-15",
          "2024-12-16",
          "2024-12-17",
          "2024-12-18",
          "2024-12-19",
          "2024-12-20",
          "2024-12-21",
          "2024-12-23",
          "2024-12-24",
          "2024-12-25",
          "2024-12-26",
          "2024-12-27",
          "2024-12-28",
          "2024-12-29",
          "2024-12-30",
          "2024-12-31",
          "2025-01-02",
          "2025-01-03",
          "2025-01-04",
          "2025-01-05",
          "2025-01-06",
          "2025-01-07",
          "2025-01-08",
          "2025-01-09",
          "2025-01-10",
          "2025-01-11",
          "2025-01-12",
          "2025-01-13",
          "2025-01-14",
          "2025-01-15",
          "2025-01-16",
          "2025-01-17",
          "2025-01-18",
          "2025-01-19",
          "2025-01-21",
          "2025-01-22",
          "2025-01-23",
          "2025-01-24",
          "2025-01-25",
          "2025-01-26",
          "2025-01-27",
          "2025-01-28",
          "2025-01-29",
          "2025-01-30",
          "2025-01-31",
          "2025-02-01",
          "2025-02-02",
          "2025-02-03",
          "2025-02-04"
         ],
         "xaxis": "x",
         "y": {
          "bdata": "IQYMDBIQJzcuDxISDA0SCRUIERYMBg0FCgcIBQcJAwYECgkMCQgOCQYGAwwEBQIECgYDBg0ICAgBBAECAQEIAQMBAQMBBAECAQUGAwIEBAMGBAICBAMEAwMBCAQFBgQJAwIFBwoNCgoODQ8PDg0JCAsPBwkFAwIDAwwCAwcDBgECAwECAQMBAQEDAgEEAwEBAQIBBAIEAQEDAgEDAQIBAQEBAgIBAgIBAQMCAQECAgEHBQQBAwICAwECBAEBBAEBAgECBAIBARIBAQICAgEBAQcDBAEDAgIBBAIBAQIBAgMBAgQBAwIEAwMBAgICAQIFAQMBBAMBAwMEAQEBAQEBAgICAQEBAgEBAQECAQIBAQECAQEBBAECAQEDAgEDAQQCAgMEAgIBAgEBAQEBAQEEAgYDAgkBAwECAgIDBAICAgQIAgEFAQIBAQEEAQEDAgQCAwEBAwcFAwIBAQYBAQEBAgEDAgQBCwICBgEBAQMHAQMEAgEBBAMBAQEBAgIDAQMBAQEDAQIBAgIBAgQBAgMBAQYGAgICAQEBAgQCBQEBAgECAQUCAgEBAQMBBgECBQICAgMCBQUBAwMCAQMBAgIDAgEBAgMCAQMBAQMBAQMGAgECBAcEAQEDAgEDAgMDAwEEAQEDAQIBAQECAQIBAgEBAwICAwIDAQIBAQEGAgIFAQEBAgQIAwUFCAQFAwQDAgQCAQMDBAMBAgEEAQIDAQQDAgQDAQECBAMGAwQDAgYDAgMDAwMCAgIDAQYCAgEDAwIFAwEC",
          "dtype": "i1"
         },
         "yaxis": "y"
        }
       ],
       "layout": {
        "legend": {
         "tracegroupgap": 0
        },
        "template": {
         "data": {
          "bar": [
           {
            "error_x": {
             "color": "#2a3f5f"
            },
            "error_y": {
             "color": "#2a3f5f"
            },
            "marker": {
             "line": {
              "color": "#E5ECF6",
              "width": 0.5
             },
             "pattern": {
              "fillmode": "overlay",
              "size": 10,
              "solidity": 0.2
             }
            },
            "type": "bar"
           }
          ],
          "barpolar": [
           {
            "marker": {
             "line": {
              "color": "#E5ECF6",
              "width": 0.5
             },
             "pattern": {
              "fillmode": "overlay",
              "size": 10,
              "solidity": 0.2
             }
            },
            "type": "barpolar"
           }
          ],
          "carpet": [
           {
            "aaxis": {
             "endlinecolor": "#2a3f5f",
             "gridcolor": "white",
             "linecolor": "white",
             "minorgridcolor": "white",
             "startlinecolor": "#2a3f5f"
            },
            "baxis": {
             "endlinecolor": "#2a3f5f",
             "gridcolor": "white",
             "linecolor": "white",
             "minorgridcolor": "white",
             "startlinecolor": "#2a3f5f"
            },
            "type": "carpet"
           }
          ],
          "choropleth": [
           {
            "colorbar": {
             "outlinewidth": 0,
             "ticks": ""
            },
            "type": "choropleth"
           }
          ],
          "contour": [
           {
            "colorbar": {
             "outlinewidth": 0,
             "ticks": ""
            },
            "colorscale": [
             [
              0,
              "#0d0887"
             ],
             [
              0.1111111111111111,
              "#46039f"
             ],
             [
              0.2222222222222222,
              "#7201a8"
             ],
             [
              0.3333333333333333,
              "#9c179e"
             ],
             [
              0.4444444444444444,
              "#bd3786"
             ],
             [
              0.5555555555555556,
              "#d8576b"
             ],
             [
              0.6666666666666666,
              "#ed7953"
             ],
             [
              0.7777777777777778,
              "#fb9f3a"
             ],
             [
              0.8888888888888888,
              "#fdca26"
             ],
             [
              1,
              "#f0f921"
             ]
            ],
            "type": "contour"
           }
          ],
          "contourcarpet": [
           {
            "colorbar": {
             "outlinewidth": 0,
             "ticks": ""
            },
            "type": "contourcarpet"
           }
          ],
          "heatmap": [
           {
            "colorbar": {
             "outlinewidth": 0,
             "ticks": ""
            },
            "colorscale": [
             [
              0,
              "#0d0887"
             ],
             [
              0.1111111111111111,
              "#46039f"
             ],
             [
              0.2222222222222222,
              "#7201a8"
             ],
             [
              0.3333333333333333,
              "#9c179e"
             ],
             [
              0.4444444444444444,
              "#bd3786"
             ],
             [
              0.5555555555555556,
              "#d8576b"
             ],
             [
              0.6666666666666666,
              "#ed7953"
             ],
             [
              0.7777777777777778,
              "#fb9f3a"
             ],
             [
              0.8888888888888888,
              "#fdca26"
             ],
             [
              1,
              "#f0f921"
             ]
            ],
            "type": "heatmap"
           }
          ],
          "histogram": [
           {
            "marker": {
             "pattern": {
              "fillmode": "overlay",
              "size": 10,
              "solidity": 0.2
             }
            },
            "type": "histogram"
           }
          ],
          "histogram2d": [
           {
            "colorbar": {
             "outlinewidth": 0,
             "ticks": ""
            },
            "colorscale": [
             [
              0,
              "#0d0887"
             ],
             [
              0.1111111111111111,
              "#46039f"
             ],
             [
              0.2222222222222222,
              "#7201a8"
             ],
             [
              0.3333333333333333,
              "#9c179e"
             ],
             [
              0.4444444444444444,
              "#bd3786"
             ],
             [
              0.5555555555555556,
              "#d8576b"
             ],
             [
              0.6666666666666666,
              "#ed7953"
             ],
             [
              0.7777777777777778,
              "#fb9f3a"
             ],
             [
              0.8888888888888888,
              "#fdca26"
             ],
             [
              1,
              "#f0f921"
             ]
            ],
            "type": "histogram2d"
           }
          ],
          "histogram2dcontour": [
           {
            "colorbar": {
             "outlinewidth": 0,
             "ticks": ""
            },
            "colorscale": [
             [
              0,
              "#0d0887"
             ],
             [
              0.1111111111111111,
              "#46039f"
             ],
             [
              0.2222222222222222,
              "#7201a8"
             ],
             [
              0.3333333333333333,
              "#9c179e"
             ],
             [
              0.4444444444444444,
              "#bd3786"
             ],
             [
              0.5555555555555556,
              "#d8576b"
             ],
             [
              0.6666666666666666,
              "#ed7953"
             ],
             [
              0.7777777777777778,
              "#fb9f3a"
             ],
             [
              0.8888888888888888,
              "#fdca26"
             ],
             [
              1,
              "#f0f921"
             ]
            ],
            "type": "histogram2dcontour"
           }
          ],
          "mesh3d": [
           {
            "colorbar": {
             "outlinewidth": 0,
             "ticks": ""
            },
            "type": "mesh3d"
           }
          ],
          "parcoords": [
           {
            "line": {
             "colorbar": {
              "outlinewidth": 0,
              "ticks": ""
             }
            },
            "type": "parcoords"
           }
          ],
          "pie": [
           {
            "automargin": true,
            "type": "pie"
           }
          ],
          "scatter": [
           {
            "fillpattern": {
             "fillmode": "overlay",
             "size": 10,
             "solidity": 0.2
            },
            "type": "scatter"
           }
          ],
          "scatter3d": [
           {
            "line": {
             "colorbar": {
              "outlinewidth": 0,
              "ticks": ""
             }
            },
            "marker": {
             "colorbar": {
              "outlinewidth": 0,
              "ticks": ""
             }
            },
            "type": "scatter3d"
           }
          ],
          "scattercarpet": [
           {
            "marker": {
             "colorbar": {
              "outlinewidth": 0,
              "ticks": ""
             }
            },
            "type": "scattercarpet"
           }
          ],
          "scattergeo": [
           {
            "marker": {
             "colorbar": {
              "outlinewidth": 0,
              "ticks": ""
             }
            },
            "type": "scattergeo"
           }
          ],
          "scattergl": [
           {
            "marker": {
             "colorbar": {
              "outlinewidth": 0,
              "ticks": ""
             }
            },
            "type": "scattergl"
           }
          ],
          "scattermap": [
           {
            "marker": {
             "colorbar": {
              "outlinewidth": 0,
              "ticks": ""
             }
            },
            "type": "scattermap"
           }
          ],
          "scattermapbox": [
           {
            "marker": {
             "colorbar": {
              "outlinewidth": 0,
              "ticks": ""
             }
            },
            "type": "scattermapbox"
           }
          ],
          "scatterpolar": [
           {
            "marker": {
             "colorbar": {
              "outlinewidth": 0,
              "ticks": ""
             }
            },
            "type": "scatterpolar"
           }
          ],
          "scatterpolargl": [
           {
            "marker": {
             "colorbar": {
              "outlinewidth": 0,
              "ticks": ""
             }
            },
            "type": "scatterpolargl"
           }
          ],
          "scatterternary": [
           {
            "marker": {
             "colorbar": {
              "outlinewidth": 0,
              "ticks": ""
             }
            },
            "type": "scatterternary"
           }
          ],
          "surface": [
           {
            "colorbar": {
             "outlinewidth": 0,
             "ticks": ""
            },
            "colorscale": [
             [
              0,
              "#0d0887"
             ],
             [
              0.1111111111111111,
              "#46039f"
             ],
             [
              0.2222222222222222,
              "#7201a8"
             ],
             [
              0.3333333333333333,
              "#9c179e"
             ],
             [
              0.4444444444444444,
              "#bd3786"
             ],
             [
              0.5555555555555556,
              "#d8576b"
             ],
             [
              0.6666666666666666,
              "#ed7953"
             ],
             [
              0.7777777777777778,
              "#fb9f3a"
             ],
             [
              0.8888888888888888,
              "#fdca26"
             ],
             [
              1,
              "#f0f921"
             ]
            ],
            "type": "surface"
           }
          ],
          "table": [
           {
            "cells": {
             "fill": {
              "color": "#EBF0F8"
             },
             "line": {
              "color": "white"
             }
            },
            "header": {
             "fill": {
              "color": "#C8D4E3"
             },
             "line": {
              "color": "white"
             }
            },
            "type": "table"
           }
          ]
         },
         "layout": {
          "annotationdefaults": {
           "arrowcolor": "#2a3f5f",
           "arrowhead": 0,
           "arrowwidth": 1
          },
          "autotypenumbers": "strict",
          "coloraxis": {
           "colorbar": {
            "outlinewidth": 0,
            "ticks": ""
           }
          },
          "colorscale": {
           "diverging": [
            [
             0,
             "#8e0152"
            ],
            [
             0.1,
             "#c51b7d"
            ],
            [
             0.2,
             "#de77ae"
            ],
            [
             0.3,
             "#f1b6da"
            ],
            [
             0.4,
             "#fde0ef"
            ],
            [
             0.5,
             "#f7f7f7"
            ],
            [
             0.6,
             "#e6f5d0"
            ],
            [
             0.7,
             "#b8e186"
            ],
            [
             0.8,
             "#7fbc41"
            ],
            [
             0.9,
             "#4d9221"
            ],
            [
             1,
             "#276419"
            ]
           ],
           "sequential": [
            [
             0,
             "#0d0887"
            ],
            [
             0.1111111111111111,
             "#46039f"
            ],
            [
             0.2222222222222222,
             "#7201a8"
            ],
            [
             0.3333333333333333,
             "#9c179e"
            ],
            [
             0.4444444444444444,
             "#bd3786"
            ],
            [
             0.5555555555555556,
             "#d8576b"
            ],
            [
             0.6666666666666666,
             "#ed7953"
            ],
            [
             0.7777777777777778,
             "#fb9f3a"
            ],
            [
             0.8888888888888888,
             "#fdca26"
            ],
            [
             1,
             "#f0f921"
            ]
           ],
           "sequentialminus": [
            [
             0,
             "#0d0887"
            ],
            [
             0.1111111111111111,
             "#46039f"
            ],
            [
             0.2222222222222222,
             "#7201a8"
            ],
            [
             0.3333333333333333,
             "#9c179e"
            ],
            [
             0.4444444444444444,
             "#bd3786"
            ],
            [
             0.5555555555555556,
             "#d8576b"
            ],
            [
             0.6666666666666666,
             "#ed7953"
            ],
            [
             0.7777777777777778,
             "#fb9f3a"
            ],
            [
             0.8888888888888888,
             "#fdca26"
            ],
            [
             1,
             "#f0f921"
            ]
           ]
          },
          "colorway": [
           "#636efa",
           "#EF553B",
           "#00cc96",
           "#ab63fa",
           "#FFA15A",
           "#19d3f3",
           "#FF6692",
           "#B6E880",
           "#FF97FF",
           "#FECB52"
          ],
          "font": {
           "color": "#2a3f5f"
          },
          "geo": {
           "bgcolor": "white",
           "lakecolor": "white",
           "landcolor": "#E5ECF6",
           "showlakes": true,
           "showland": true,
           "subunitcolor": "white"
          },
          "hoverlabel": {
           "align": "left"
          },
          "hovermode": "closest",
          "mapbox": {
           "style": "light"
          },
          "paper_bgcolor": "white",
          "plot_bgcolor": "#E5ECF6",
          "polar": {
           "angularaxis": {
            "gridcolor": "white",
            "linecolor": "white",
            "ticks": ""
           },
           "bgcolor": "#E5ECF6",
           "radialaxis": {
            "gridcolor": "white",
            "linecolor": "white",
            "ticks": ""
           }
          },
          "scene": {
           "xaxis": {
            "backgroundcolor": "#E5ECF6",
            "gridcolor": "white",
            "gridwidth": 2,
            "linecolor": "white",
            "showbackground": true,
            "ticks": "",
            "zerolinecolor": "white"
           },
           "yaxis": {
            "backgroundcolor": "#E5ECF6",
            "gridcolor": "white",
            "gridwidth": 2,
            "linecolor": "white",
            "showbackground": true,
            "ticks": "",
            "zerolinecolor": "white"
           },
           "zaxis": {
            "backgroundcolor": "#E5ECF6",
            "gridcolor": "white",
            "gridwidth": 2,
            "linecolor": "white",
            "showbackground": true,
            "ticks": "",
            "zerolinecolor": "white"
           }
          },
          "shapedefaults": {
           "line": {
            "color": "#2a3f5f"
           }
          },
          "ternary": {
           "aaxis": {
            "gridcolor": "white",
            "linecolor": "white",
            "ticks": ""
           },
           "baxis": {
            "gridcolor": "white",
            "linecolor": "white",
            "ticks": ""
           },
           "bgcolor": "#E5ECF6",
           "caxis": {
            "gridcolor": "white",
            "linecolor": "white",
            "ticks": ""
           }
          },
          "title": {
           "x": 0.05
          },
          "xaxis": {
           "automargin": true,
           "gridcolor": "white",
           "linecolor": "white",
           "ticks": "",
           "title": {
            "standoff": 15
           },
           "zerolinecolor": "white",
           "zerolinewidth": 2
          },
          "yaxis": {
           "automargin": true,
           "gridcolor": "white",
           "linecolor": "white",
           "ticks": "",
           "title": {
            "standoff": 15
           },
           "zerolinecolor": "white",
           "zerolinewidth": 2
          }
         }
        },
        "title": {
         "text": "Number of Comments Over Time"
        },
        "xaxis": {
         "anchor": "y",
         "domain": [
          0,
          1
         ],
         "title": {
          "text": "Date"
         }
        },
        "yaxis": {
         "anchor": "x",
         "domain": [
          0,
          1
         ],
         "title": {
          "text": "Number of Comments"
         }
        }
       }
      }
     },
     "metadata": {},
     "output_type": "display_data"
    },
    {
     "name": "stdout",
     "output_type": "stream",
     "text": [
      "✅ Visualizations completed!\n"
     ]
    }
   ],
   "source": [
    "import pandas as pd\n",
    "import plotly.express as px\n",
    "\n",
    "# Load data with proper delimiter and error handling\n",
    "df = pd.read_csv(\"../data/processed/part-00000-55078bd3-eca0-4078-8064-721c27ee24fc-c000.csv.csv\", on_bad_lines='skip', delimiter=\",\")\n",
    "\n",
    "# Convert 'published_at' to datetime format\n",
    "df['published_at'] = pd.to_datetime(df['published_at'], errors='coerce')\n",
    "\n",
    "# Create a bar chart for the most liked comments\n",
    "fig = px.bar(df.sort_values(by='likes', ascending=False).head(10), \n",
    "             x='author', y='likes', \n",
    "             title=\"Top 10 Most Liked Comments\", \n",
    "             labels={'author': 'Author', 'likes': 'Likes'}, \n",
    "             text='comment')\n",
    "fig.show()\n",
    "\n",
    "# Create a histogram for comment length distribution\n",
    "df['comment_length'] = df['comment'].astype(str).apply(len)\n",
    "fig = px.histogram(df, x=\"comment_length\", title=\"Comment Length Distribution\", nbins=30)\n",
    "fig.show()\n",
    "\n",
    "# Create a scatter plot for likes vs. comment length\n",
    "fig = px.scatter(df, x=\"comment_length\", y=\"likes\", \n",
    "                 title=\"Likes vs. Comment Length\", \n",
    "                 labels={'comment_length': 'Comment Length', 'likes': 'Likes'}, \n",
    "                 color=\"likes\")\n",
    "fig.show()\n",
    "\n",
    "# Create a time series plot for comments over time\n",
    "df['date'] = df['published_at'].dt.date\n",
    "fig = px.line(df.groupby('date').size().reset_index(name='count'), \n",
    "              x='date', y='count', \n",
    "              title=\"Number of Comments Over Time\", \n",
    "              labels={'date': 'Date', 'count': 'Number of Comments'})\n",
    "fig.show()\n",
    "\n",
    "print(\"✅ Visualizations completed!\")\n"
   ]
  }
 ],
 "metadata": {
  "kernelspec": {
   "display_name": "Python 3",
   "language": "python",
   "name": "python3"
  },
  "language_info": {
   "name": "python",
   "version": "3.13.1"
  }
 },
 "nbformat": 4,
 "nbformat_minor": 2
}
